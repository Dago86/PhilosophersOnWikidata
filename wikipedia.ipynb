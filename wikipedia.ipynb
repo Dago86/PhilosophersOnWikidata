{
  "nbformat": 4,
  "nbformat_minor": 0,
  "metadata": {
    "colab": {
      "name": "wikipedia.ipynb",
      "provenance": [],
      "collapsed_sections": [],
      "authorship_tag": "ABX9TyNcv4LBvbS+Luivh6FB1hrj",
      "include_colab_link": true
    },
    "kernelspec": {
      "name": "python3",
      "display_name": "Python 3"
    },
    "widgets": {
      "application/vnd.jupyter.widget-state+json": {
        "a3340a3577784df184b699e4d6591aed": {
          "model_module": "@jupyter-widgets/controls",
          "model_name": "IntSliderModel",
          "state": {
            "_view_name": "IntSliderView",
            "style": "IPY_MODEL_0e9bbe417c3a429e924e7d6582727b84",
            "_dom_classes": [],
            "description": "",
            "step": 1,
            "_model_name": "IntSliderModel",
            "orientation": "horizontal",
            "max": 2000,
            "_view_module": "@jupyter-widgets/controls",
            "_model_module_version": "1.5.0",
            "value": 1000,
            "_view_count": null,
            "disabled": false,
            "_view_module_version": "1.5.0",
            "min": 0,
            "continuous_update": true,
            "readout_format": "d",
            "description_tooltip": null,
            "readout": true,
            "_model_module": "@jupyter-widgets/controls",
            "layout": "IPY_MODEL_16dca20a22b14fc990db7aae1fc292af"
          }
        },
        "0e9bbe417c3a429e924e7d6582727b84": {
          "model_module": "@jupyter-widgets/controls",
          "model_name": "SliderStyleModel",
          "state": {
            "_view_name": "StyleView",
            "handle_color": null,
            "_model_name": "SliderStyleModel",
            "description_width": "",
            "_view_module": "@jupyter-widgets/base",
            "_model_module_version": "1.5.0",
            "_view_count": null,
            "_view_module_version": "1.2.0",
            "_model_module": "@jupyter-widgets/controls"
          }
        },
        "16dca20a22b14fc990db7aae1fc292af": {
          "model_module": "@jupyter-widgets/base",
          "model_name": "LayoutModel",
          "state": {
            "_view_name": "LayoutView",
            "grid_template_rows": null,
            "right": null,
            "justify_content": null,
            "_view_module": "@jupyter-widgets/base",
            "overflow": null,
            "_model_module_version": "1.2.0",
            "_view_count": null,
            "flex_flow": null,
            "width": null,
            "min_width": null,
            "border": null,
            "align_items": null,
            "bottom": null,
            "_model_module": "@jupyter-widgets/base",
            "top": null,
            "grid_column": null,
            "overflow_y": null,
            "overflow_x": null,
            "grid_auto_flow": null,
            "grid_area": null,
            "grid_template_columns": null,
            "flex": null,
            "_model_name": "LayoutModel",
            "justify_items": null,
            "grid_row": null,
            "max_height": null,
            "align_content": null,
            "visibility": null,
            "align_self": null,
            "height": null,
            "min_height": null,
            "padding": null,
            "grid_auto_rows": null,
            "grid_gap": null,
            "max_width": null,
            "order": null,
            "_view_module_version": "1.2.0",
            "grid_template_areas": null,
            "object_position": null,
            "object_fit": null,
            "grid_auto_columns": null,
            "margin": null,
            "display": null,
            "left": null
          }
        },
        "6189fff0706a45e0abb94fb761c8bb69": {
          "model_module": "@jupyter-widgets/controls",
          "model_name": "IntSliderModel",
          "state": {
            "_view_name": "IntSliderView",
            "style": "IPY_MODEL_9e3efedc9d8f4472bdbb1f8e1e6f3e01",
            "_dom_classes": [],
            "description": "",
            "step": 1,
            "_model_name": "IntSliderModel",
            "orientation": "horizontal",
            "max": 2000,
            "_view_module": "@jupyter-widgets/controls",
            "_model_module_version": "1.5.0",
            "value": 1000,
            "_view_count": null,
            "disabled": false,
            "_view_module_version": "1.5.0",
            "min": 0,
            "continuous_update": true,
            "readout_format": "d",
            "description_tooltip": null,
            "readout": true,
            "_model_module": "@jupyter-widgets/controls",
            "layout": "IPY_MODEL_6627fcbed4b049a7b44a72ac5a38b96b"
          }
        },
        "9e3efedc9d8f4472bdbb1f8e1e6f3e01": {
          "model_module": "@jupyter-widgets/controls",
          "model_name": "SliderStyleModel",
          "state": {
            "_view_name": "StyleView",
            "handle_color": null,
            "_model_name": "SliderStyleModel",
            "description_width": "",
            "_view_module": "@jupyter-widgets/base",
            "_model_module_version": "1.5.0",
            "_view_count": null,
            "_view_module_version": "1.2.0",
            "_model_module": "@jupyter-widgets/controls"
          }
        },
        "6627fcbed4b049a7b44a72ac5a38b96b": {
          "model_module": "@jupyter-widgets/base",
          "model_name": "LayoutModel",
          "state": {
            "_view_name": "LayoutView",
            "grid_template_rows": null,
            "right": null,
            "justify_content": null,
            "_view_module": "@jupyter-widgets/base",
            "overflow": null,
            "_model_module_version": "1.2.0",
            "_view_count": null,
            "flex_flow": null,
            "width": null,
            "min_width": null,
            "border": null,
            "align_items": null,
            "bottom": null,
            "_model_module": "@jupyter-widgets/base",
            "top": null,
            "grid_column": null,
            "overflow_y": null,
            "overflow_x": null,
            "grid_auto_flow": null,
            "grid_area": null,
            "grid_template_columns": null,
            "flex": null,
            "_model_name": "LayoutModel",
            "justify_items": null,
            "grid_row": null,
            "max_height": null,
            "align_content": null,
            "visibility": null,
            "align_self": null,
            "height": null,
            "min_height": null,
            "padding": null,
            "grid_auto_rows": null,
            "grid_gap": null,
            "max_width": null,
            "order": null,
            "_view_module_version": "1.2.0",
            "grid_template_areas": null,
            "object_position": null,
            "object_fit": null,
            "grid_auto_columns": null,
            "margin": null,
            "display": null,
            "left": null
          }
        }
      }
    }
  },
  "cells": [
    {
      "cell_type": "markdown",
      "metadata": {
        "id": "view-in-github",
        "colab_type": "text"
      },
      "source": [
        "<a href=\"https://colab.research.google.com/github/Dago86/PhilosophersOnWikidata/blob/main/wikipedia.ipynb\" target=\"_parent\"><img src=\"https://colab.research.google.com/assets/colab-badge.svg\" alt=\"Open In Colab\"/></a>"
      ]
    },
    {
      "cell_type": "code",
      "metadata": {
        "colab": {
          "base_uri": "https://localhost:8080/"
        },
        "id": "krQtQ6OspEAr",
        "outputId": "f0c02fab-77c3-4ccc-b87f-c86ea8bab1b6"
      },
      "source": [
        "!pip install SPARQLWrapper"
      ],
      "execution_count": null,
      "outputs": [
        {
          "output_type": "stream",
          "text": [
            "Collecting SPARQLWrapper\n",
            "  Downloading https://files.pythonhosted.org/packages/00/9b/443fbe06996c080ee9c1f01b04e2f683b2b07e149905f33a2397ee3b80a2/SPARQLWrapper-1.8.5-py3-none-any.whl\n",
            "Collecting rdflib>=4.0\n",
            "\u001b[?25l  Downloading https://files.pythonhosted.org/packages/d0/6b/6454aa1db753c0f8bc265a5bd5c10b5721a4bb24160fb4faf758cf6be8a1/rdflib-5.0.0-py3-none-any.whl (231kB)\n",
            "\u001b[K     |████████████████████████████████| 235kB 6.4MB/s \n",
            "\u001b[?25hCollecting isodate\n",
            "\u001b[?25l  Downloading https://files.pythonhosted.org/packages/9b/9f/b36f7774ff5ea8e428fdcfc4bb332c39ee5b9362ddd3d40d9516a55221b2/isodate-0.6.0-py2.py3-none-any.whl (45kB)\n",
            "\u001b[K     |████████████████████████████████| 51kB 4.2MB/s \n",
            "\u001b[?25hRequirement already satisfied: pyparsing in /usr/local/lib/python3.7/dist-packages (from rdflib>=4.0->SPARQLWrapper) (2.4.7)\n",
            "Requirement already satisfied: six in /usr/local/lib/python3.7/dist-packages (from rdflib>=4.0->SPARQLWrapper) (1.15.0)\n",
            "Installing collected packages: isodate, rdflib, SPARQLWrapper\n",
            "Successfully installed SPARQLWrapper-1.8.5 isodate-0.6.0 rdflib-5.0.0\n"
          ],
          "name": "stdout"
        }
      ]
    },
    {
      "cell_type": "code",
      "metadata": {
        "colab": {
          "base_uri": "https://localhost:8080/"
        },
        "id": "4O286b0uqO32",
        "outputId": "c008f3b2-d1d4-4ccd-cf62-273be4662d91"
      },
      "source": [
        "!pip install wikipedia"
      ],
      "execution_count": null,
      "outputs": [
        {
          "output_type": "stream",
          "text": [
            "Collecting wikipedia\n",
            "  Downloading https://files.pythonhosted.org/packages/67/35/25e68fbc99e672127cc6fbb14b8ec1ba3dfef035bf1e4c90f78f24a80b7d/wikipedia-1.4.0.tar.gz\n",
            "Requirement already satisfied: beautifulsoup4 in /usr/local/lib/python3.7/dist-packages (from wikipedia) (4.6.3)\n",
            "Requirement already satisfied: requests<3.0.0,>=2.0.0 in /usr/local/lib/python3.7/dist-packages (from wikipedia) (2.23.0)\n",
            "Requirement already satisfied: urllib3!=1.25.0,!=1.25.1,<1.26,>=1.21.1 in /usr/local/lib/python3.7/dist-packages (from requests<3.0.0,>=2.0.0->wikipedia) (1.24.3)\n",
            "Requirement already satisfied: idna<3,>=2.5 in /usr/local/lib/python3.7/dist-packages (from requests<3.0.0,>=2.0.0->wikipedia) (2.10)\n",
            "Requirement already satisfied: certifi>=2017.4.17 in /usr/local/lib/python3.7/dist-packages (from requests<3.0.0,>=2.0.0->wikipedia) (2020.12.5)\n",
            "Requirement already satisfied: chardet<4,>=3.0.2 in /usr/local/lib/python3.7/dist-packages (from requests<3.0.0,>=2.0.0->wikipedia) (3.0.4)\n",
            "Building wheels for collected packages: wikipedia\n",
            "  Building wheel for wikipedia (setup.py) ... \u001b[?25l\u001b[?25hdone\n",
            "  Created wheel for wikipedia: filename=wikipedia-1.4.0-cp37-none-any.whl size=11686 sha256=1669f77fd854c566822919827f2836ba49a1c21be155b1dca2cd8c02c0cb9f29\n",
            "  Stored in directory: /root/.cache/pip/wheels/87/2a/18/4e471fd96d12114d16fe4a446d00c3b38fb9efcb744bd31f4a\n",
            "Successfully built wikipedia\n",
            "Installing collected packages: wikipedia\n",
            "Successfully installed wikipedia-1.4.0\n"
          ],
          "name": "stdout"
        }
      ]
    },
    {
      "cell_type": "code",
      "metadata": {
        "id": "u31Ybv0To9_4"
      },
      "source": [
        "# pip install sparqlwrapper\n",
        "# https://rdflib.github.io/sparqlwrapper/\n",
        "\n",
        "import sys\n",
        "from SPARQLWrapper import SPARQLWrapper, JSON\n",
        "\n",
        "endpoint_url = \"https://query.wikidata.org/sparql\"\n",
        "\n",
        "query = \"\"\"select ?philosopher ?philosopherLabel ?date\n",
        "{?philosopher wdt:P106 wd:Q4964182 ;\n",
        " wdt:P569 ?date .\n",
        " FILTER (YEAR(?date) >= 1880)\n",
        " SERVICE wikibase:label { bd:serviceParam wikibase:language \"en\" }\n",
        " }\"\"\"\n",
        "\n",
        "\n",
        "def get_results(endpoint_url, query):\n",
        "    user_agent = \"WDQS-example Python/%s.%s\" % (sys.version_info[0], sys.version_info[1])\n",
        "    # TODO adjust user agent; see https://w.wiki/CX6\n",
        "    sparql = SPARQLWrapper(endpoint_url, agent=user_agent)\n",
        "    sparql.setQuery(query)\n",
        "    sparql.setReturnFormat(JSON)\n",
        "    return sparql.query().convert()\n",
        "\n",
        "\n",
        "results = get_results(endpoint_url, query)\n",
        "\n",
        "for result in results[\"results\"][\"bindings\"]:\n",
        "    print(result['philosopherLabel']['value'])"
      ],
      "execution_count": null,
      "outputs": []
    },
    {
      "cell_type": "code",
      "metadata": {
        "id": "GgLBcms0qL9P"
      },
      "source": [
        "import wikipedia"
      ],
      "execution_count": null,
      "outputs": []
    },
    {
      "cell_type": "code",
      "metadata": {
        "colab": {
          "base_uri": "https://localhost:8080/"
        },
        "id": "eH0XjcU_qUgI",
        "outputId": "7c81c26f-d160-4a6c-e72c-69bb75cc350a"
      },
      "source": [
        "wikipedia.search(\"Emanuele Severino\")\n",
        "wikipedia.set_lang(\"it\")\n",
        "phil = wikipedia.page(\"Emanuele Severino\")\n",
        "print(phil.content)"
      ],
      "execution_count": null,
      "outputs": [
        {
          "output_type": "stream",
          "text": [
            "Emanuele Severino (Brescia, 26 febbraio 1929 – Brescia, 17 gennaio 2020) è stato un filosofo, accademico e compositore italiano.\n",
            "È considerato da parte della critica come uno dei più grandi filosofi italiani del '900. Il suo pensiero filosofico intende collocarsi oltre tutta la storia della filosofia occidentale che secondo Severino è permeata dal Nichilismo. \n",
            "\n",
            "\n",
            "== Biografia ==\n",
            "Il padre era un militare di carriera siciliano originario di Mineo trasferitosi a Brescia, mentre la madre era una bresciana di Bovegno in alta Val Trompia. Il fratello maggiore, di nove anni più grande, era uno studente alla Normale di Università di Pisa entrato in contatto con la filosofia di Giovanni Gentile, e perito prematuramente nel corso della Seconda Guerra Mondiale.\n",
            "Emanuele Severino si formò a Brescia, presso il collegio cittadino dei Gesuiti \"Cesare Arici\"; fin dalla prima adolescenza manifestò uno spiccato interesse per la matematica, la fisica, unito a quello per la composizione musicale. Realizzò un'opera minore per strumenti a fiato che si ispirava a Schumann e a Stravinskij e che fu rappresentata con un discreto successo. La lettura del saggio sul bello musicale di Eduard Hanslick segnò il suo passaggio dalla musica alla riflessione sulla musica, nonché il primo accostamento alla filosofia. In quegli anni, le voci gentiliane del fratello si accompagnarono alla predilezione per le opere di Nietzsche e Schopenhauer.Nel 1950, si laureò a Pavia come alunno dell'Almo Collegio Borromeo, discutendo una tesi su Heidegger e la metafisica, sotto la supervisione di Gustavo Bontadini. L'anno successivo ottenne la libera docenza in filosofia teoretica. Dal 1954 al 1969 insegnò Filosofia teoretica all'Università Cattolica del Sacro Cuore di Milano. I libri pubblicati in quegli anni entrarono in forte conflitto con la dottrina ufficiale della Chiesa cattolica, suscitando vivaci discussioni all'interno dell'Università Cattolica e nella Congregazione per la dottrina della fede (l'ex Sant'Uffizio). Dopo un lungo e accurato esame (condotto da Cornelio Fabro) la Chiesa proclamò ufficialmente nel 1969 l'insanabile opposizione tra il pensiero di Severino e il cristianesimo.\n",
            "Lasciata l'Università Cattolica, Severino venne chiamato all'Università Ca' Foscari Venezia, dove fu tra i fondatori della Facoltà di lettere e filosofia, nella quale hanno insegnato o insegnano alcuni dei suoi allievi (Umberto Galimberti, Carmelo Vigna, Luigi Ruggiu, Salvatore Natoli, Italo Valent). Dal 1970 fu professore ordinario di Filosofia teoretica, diresse l'Istituto di filosofia (diventato poi Dipartimento di Filosofia e Teoria delle scienze e, oggi, Dipartimento di Filosofia e Beni Culturali) fino al 1989 e insegnò anche logica, storia della filosofia moderna e contemporanea e sociologia. Tra il 1995 e il 1997 cominciò una serie di pubblici colloqui col teologo tomista Giuseppe Barzaghi in cui pareva aprirsi lo spiraglio di una riconsiderazione della possibilità cristiana.\n",
            "Nel 2005 l'Università Ca' Foscari Venezia lo proclamò Professore emerito; insegnò Ontologia fondamentale presso la Facoltà di Filosofia dell'Università Vita-Salute San Raffaele di Milano; fu Accademico dei Lincei e Cavaliere di gran croce, inoltre collaborò dal 1975 per alcuni decenni con il Corriere della Sera e dal 1974 per pochi anni con Bresciaoggi.\n",
            "Il 23 dicembre 2015 il Consiglio comunale di Bovegno gli conferì la cittadinanza onoraria con la seguente motivazione: \"Discendente per parte di madre da antica famiglia bovegnese, ha contribuito con la sua opera in maniera rilevante al pensiero filosofico occidentale contemporaneo, sulle orme degli antichi filosofi greci. Nella sua autobiografia ha espresso il suo legame con la terra avìta di Bòvegno che onorata, lo vuole annoverare tra i suoi concittadini più illustri\".\n",
            "È morto a Brescia il 17 gennaio 2020 dopo una lunga malattia.\n",
            "\n",
            "\n",
            "=== Politica e società ===\n",
            "Severino ha spesso criticato sia il capitalismo sia il comunismo, fonti dell'heideggeriana \"vita inautentica\" in quanto espressioni di \"dominio della tecnica\" (come d'altronde il fascismo), ma anche la sinistra in quanto \"non è più socialdemocrazia\", rilasciando anche dichiarazioni sul suo punto di vista sul passato e sull'avvenire dell'Italia: e criticando \"l'assolutismo cattolico e comunista\", oltre che tacciando la magistratura di \"ingenuità\", poiché processando una classe politica a fondo ha rivelato la contiguità anche con la criminalità organizzata, figlia della guerra fredda e, secondo Severino, impossibile da debellare integralmente in pochi anni senza debellare lo Stato stesso, causando notevoli problemi.\n",
            "\n",
            "\n",
            "=== Critiche ===\n",
            "Oltre alle citate critiche cattoliche, Martin Heidegger parlando con Cornelio Fabro a Roma ebbe a dire a proposito di \"Ritornare a Parmenide\" di Severino: \"Severino ha immobilizzato il mio Dasein!\" Già da molto prima prima, alcuni appunti di lavoro heideggeriani testimoniano come Martin Heidegger seguisse il giovanissimo Severino (da uno studio di Francesco Alfieri e Friedrich von Herrmann). Severino è stato criticato dal matematico e logico Piergiorgio Odifreddi, in risposta a un giudizio critico dello stesso Severino su un'opera di Odifreddi, ovvero l'introduzione scritta per l'edizione italiana di L'ABC della relatività di Bertrand Russell, dove venivano citati alcuni filosofi (tra cui Severino stesso, Heidegger, Croce e Deleuze), secondo Severino in maniera non congrua e \"alla rinfusa\"; il matematico ha accusato invece Severino di non considerare l'importanza della scienza (come già fecero i neoidealisti, come Croce e Gentile), a differenza di grandi filosofi del passato che avevano studiato a fondo alcune teorie (facendo l'esempio di Kant, Nietzsche e Cartesio, matematico lui stesso). Nel dialogo tra Severino e Alessandro Di Chiara, Oltre l'uomo e oltre Dio (2002) la filosofia della necessità si contrappone alla filosofia della libertà.\n",
            "\n",
            "\n",
            "== Pensiero ==\n",
            "Nei suoi scritti fa spesso riferimento a pensatori come Parmenide, Eraclito, Aristotele, Hegel, Nietzsche, Leopardi, Heidegger e Gentile. Secondo Severino il pensiero di Giacomo Leopardi, Nietzsche e di Giovanni Gentile è l'apice della follia del nichilismo. Severino considera questi tre filosofi come i tre più grandi geni che hanno portato all'estremo la concezione greca del Nulla ovvero l'entrare e l'uscire degli enti dal Nulla. \n",
            "\n",
            "\n",
            "=== L'eternità di tutti gli essenti ===\n",
            "Severino affronta l'antico problema radicalizzato da Platone e Aristotele e ripreso poi in epoca moderna da Heidegger: il problema dell'essere. Per Severino, tutte le filosofie costituitesi precedentemente sono caratterizzate da un errore di fondo: la fede nel senso greco del divenire. Sin dagli antichi greci, infatti, un ente (ovvero un qualcosa che è) viene considerato come proveniente dal nulla, dotato temporaneamente di esistenza e successivamente ritornante nel nulla.Rifacendosi al pensiero di Parmenide, Severino è stato definito come fondatore di un neoparmenidismo, di cui sarebbe l'unico esponente, peraltro criticato in senso anti-metafisico da Gennaro Sasso e da Mauro Visentin, i quali sostengono, rovesciando la sua tesi, come, contrariamente all'opinione diffusa, in Parmenide esista invece un deciso rifiuto della metafisica..\n",
            "Severino, riflettendo sull'opposizione assoluta tra essere e non-essere, dato che tra i due termini non vi è nulla in comune, ritiene evidente che l'essere non può non rimanere costantemente uguale a se stesso, evitando di rimanere alterato dall'altro da sé. Anzi, essendo l'essere la totalità di ciò che esiste, non può esserci altro al di fuori di esso dotato di esistenza (Severino rifiuta, quindi, il concetto di differenza ontologica così come è stato avanzato da Heidegger). Per Severino, quindi, tutta la storia della filosofia occidentale è basata sull'errata convinzione che l'essere possa diventare un nulla, sebbene alcuni filosofi, come Schopenhauer, abbiano tentato di negare tale assunto.Ma, mentre Parmenide tentava di risolvere il conflitto tra il divenire e l'immutabilità dell'essere affermando l'illusorietà del divenire (negando l'esistenza delle cose del mondo e cadendo quindi in un'aporia), Severino sceglie una via differente, portando il suo pensiero a delle tesi estreme.Dato che l'essere è, e non può mai diventare un nulla, «ogni essente è eterno». Ogni cosa, ogni pensiero, ogni attimo sono eterni. Il divenire temporale non può, quindi, che rappresentare l'apparire successivo degli eterni stati dell'essere, così come i fotogrammi di una pellicola si susseguono sino a formare lo svolgimento completo di un film. Gli enti entrano ed escono da quello che Severino chiama \"cerchio dell'apparire\". Ciò significa che, quando un ente esce dal cerchio dell'apparire, non diviene un nulla, ma si sottrae semplicemente alla vista: dunque, le cose esistono anche quando scompaiono ovvero non si vedono (\"vedere senza vedere\", dice Donato Sperduto in una tragicommedia sul pensiero severiniano). Riprendendo la metafora di Plotino, afferma che il divenire degli enti è come lo scorrere degli oggetti sulla superficie di uno specchio. Le cose, infatti, esistono prima di entrare nel campo visivo dello specchio e ovviamente continuano ad esistere anche dopo esserne uscite. Non solo Plotino, ma anche Agostino di Ippona, con un'immagine simile, definì il tempo come immagine mobile dell'Eterno. Nel pensiero di Severino, tuttavia, l'eternità non è limitata a un Dio che dà e toglie la vita agli Enti, facendoli entrare e uscire dallo specchio (senza che nulla esista prima e dopo), ma si estende anche a tutti gli enti che nel divenire si manifestano.\n",
            "\n",
            "\n",
            "=== Dimostrazione dell'eternità di tutti gli essenti ===\n",
            "La dimostrazione severiniana dell'eternità di tutti gli essenti, si basa sostanzialmente sul principio di non contraddizione, ma non nella versione che ne dà Aristotele nel De Interpretatione. In essa anzi \"il discorso del tramonto del senso dell'essere...trova la sua formulazione più rigorosa e più esplicita\".Bisogna invece \"ritornare a Parmenide\", correggerne - con Platone - l'esito aporetico, dimostrando che l'evidenza fenomenica non è in contrasto col principio di non contraddizione, ma scoprendo anzi che il divenire così come Platone lo pensa, come uscire dal nulla e ritornare nel nulla, non appare affatto, non è affatto \"evidente\".Di qui si potrà proseguire su una via (quella indicata da Parmenide, il \"sentiero del giorno\") ben diversa da quella imboccata con Platone dal pensiero occidentale.Consideriamo la proposizione parmenidea: \"...è infatti l'essere, il nulla non è\": tale proposizione esprime l'opposizione \"assoluta\" tra i termini \"essere\" e \"non essere\"; pertanto ogni essente, in quanto ent-e, è assolutamente opposto al nulla e non ci può essere né un tempo né uno stato in cui un ente non sia, come pensa invece il principio di non contraddizione aristotelico: \"è necessario che l'essere sia, quando è, e che il non-essere non sia, quando non è\". Quest'enunciato esprime il pensiero di un tempo, una condizione, in cui l'ente è nulla, in cui essere=nulla. Questa impossibile ed impensabile contraddizione costituisce la \"follia essenziale\" in cui cresce e sta, senza esserne consapevole, tutto il pensiero occidentale.Infatti il pensiero occidentale pensa sì, consapevolmente, l'ente come essere, ma insieme come diveniente (pensa cioè che esca dal nulla e ritorni nel nulla). Ad esso sfugge invece che ciò equivale a pensare l'ente come nulla; e questo è il nichilismo più proprio, la follia che si annida nell'inconscio della filosofia, della scienza e della tecnica.\n",
            "\n",
            "\n",
            "=== La differenza ontologica ===\n",
            "Per Heidegger, l'essere non è un ente tra gli enti. Esso rappresenta piuttosto l'apparire ontologico degli enti, e per questo motivo viene definito un transcendens rispetto all'ente. Severino rigetta la concezione heideggeriana, affermando che la totalità dell'essere è costituita dalla totalità degli enti. La vera differenza ontologica è quindi per Severino quella che si costituisce tra l'essere (l'ente) diveniente e quello immutabile.L'essere che appare e scompare non è lo stesso essere immutabile, ma è anch'esso eterno. Entrambi esistono, ma in differenti dimensioni. L'essere come fondamento è una struttura eterna e non soggetta ad alcun mutamento.\n",
            "\n",
            "\n",
            "=== Tutto è avvolto (fino alla morte) dal nichilismo ===\n",
            "Un po' tutti i filosofi che l'hanno avuto sottomano hanno inteso il nichilismo come allontanamento dalla verità, e l'hanno dunque declinato a seconda dell'idea di verità a cui stavano pensando.\n",
            "Nella prospettiva severiniana dell'eternità di tutte le cose, il nichilismo è dunque il credere che le cose siano mortali, ovvero che l'essere possa non essere, ed uscire e rientrare nel nulla, ovvero credere nel divenire delle cose. Credere infatti che le cose escano dal nulla e vi ritornino equivale ad identificare l'essere con il nulla: quindi si parla di pura \"follia\". Al di fuori della follia appare l'eternità di ogni cosa e di ogni evento. Al di fuori del nichilismo il sopraggiungere dell'ente è il comparire o lo sparire dell'eterno. Il divenire dell'essere è un'opinione senza verità. L'Occidente non domina il mondo casualmente o perché ha una possibilità offensiva superiore; ma, al contrario, ha una possibilità offensiva superiore perché domina il mondo che crede nelle sue stesse imprescindibili idee guida (scienza, potenza, tecnica, salvezza, ecc.) e quindi in una cultura che ritiene più avanzata – e dove dunque l'avanzamento non è una virtù morale, ma la capacità di capire e fare più cose per sopravvivere all'imprevedibilità dell'esistenza.\n",
            "\n",
            "\n",
            "=== Nichilismo, morte e destino ===\n",
            "Severino ritiene che la filosofia abbia sempre cercato riparo contro il terrore che scaturisce dall'imprevedibilità dell'esistenza perché innanzitutto si è sempre creduto nell'evidenza del divenire degli enti, del loro uscire dal nulla e rientrarvi. Anche le grandi forme di epistème come quelle di Aristotele ed Hegel, che tendono a dare un ordine ed una configurazione prestabiliti all'esistenza, si muovono sullo stesso terreno.L'intera storia dell'Occidente è quindi per Severino storia del nichilismo. La radicale distruzione dell'epistème operata da parte della filosofia contemporanea e la rapida ascesa della scienza moderna ai vertici del sapere sono conseguenze inevitabili di questa forma di pensiero (la civiltà della tecnica è, infatti, la forma estrema di volontà di potenza o, detto in altre parole, il fine della tecnica è l'incremento della potenza). Secondo la logica severiniana, tutto ciò che appare appare in maniera necessaria ed il progressivo manifestarsi degli eterni non segue, quindi, una sequenza casuale. Ciò significa che la libertà dell'uomo non esiste, ma appare all'interno di quell'essente (anch'esso eterno) che è il nichilismo dell'Occidente. Ed è proprio all'interno dell'Occidente che appare il \"mortale\" come noi lo conosciamo.Ma, per Severino, l'Occidente è destinato al tramonto, per fare spazio al Destino della verità, la verità che testimonia la follia della fede nel divenire. Solo all'interno del Destino della verità la morte acquista un significato inaudito: in realtà la morte è la persuasione dell'assentarsi dell'eterno.\n",
            "\n",
            "\n",
            "=== Dio e il Superdio ===\n",
            "Da quanto detto precedentemente appare chiaro come nel pensiero di Severino non ci sia posto per il Dio comunemente inteso; da qui il contrasto insanabile con la Chiesa Cattolica.Nel corso della storia della filosofia, e nel pensiero della Chiesa cattolica in particolare, l'affermazione dell'esistenza di qualcosa di immutabile (tra cui Dio in tutti i diversi modi nei quali filosofia e religione lo hanno concepito) è sempre stata fatta partendo dal presupposto che il divenire non significhi necessariamente la nascita dal nulla e il tornare nel nulla delle cose che in esso si presentano. Quest'affermazione è, inoltre, sempre avvenuta con l'intento di risolvere le varie contraddizioni che quel presupposto implica e di inventare un \"rimedio\" per l'\"angoscia\" che il pensiero dell'annientamento provoca. Questo genere di immutabilità è, quindi, di segno diverso da quella che compete agli enti sulla base dell'impossibilità assoluta che qualcosa si annulli. Per questo motivo è impossibile che esista un Dio come è stato pensato dalla religione e dalla filosofia. A maggior ragione è impossibile per Severino che esista il Dio del cristianesimo, che è tradizionalmente concepito come dotato della capacità di creare gli enti dal nulla e di mantenerli in esistenza grazie alla sua libera volontà (altrettanto libero potrebbe essere, per Dio, l'\"annichilimento\" - diverso dal concetto fisico di annichilazione -, e cioè la volontà di far cessare la durata della loro esistenza per farli ritornare nel nulla).Essendo ogni ente eterno, non può esserci né creazione né annientamento, e quindi neanche un Dio comunemente inteso. Alla luce del \"Destino della verità\", ogni ente, anche il più insignificante, acquista un significato inaudito. L'uomo si porta quindi radicalmente al di là del superuomo e della volontà di potenza: l'uomo è un \"superdio\", ben più grande del Dio della tradizione religiosa. L'inconciliabilità fra la dottrina dell'Essere di Severino e il Tomismo è stata sostenuta da Cornelio Fabro.Il teologo e frate domenicano tomista Giuseppe Barzaghi, con cui Severino ha più volte dialogato pubblicamente dal 1995, ha mostrato la possibilità di utilizzare le intuizioni severiniane sull'eternità dell'essente proprio per affermare l'esistenza di Dio e ricondurre il pensiero del filosofo all'alveo cristiano da cui si è staccato (entrambi sono stati alunni, all'Università Cattolica, del filosofo cattolico e apologeta Gustavo Bontadini). Severino, pur non rivedendo pubblicamente il suo punto di vista sull'esistenza di Dio, ha apprezzato ed elogiato la proposta di padre Barzaghi.\n",
            "\n",
            "\n",
            "=== Necessità dell'oltrepassamento ===\n",
            "Con il libro La Gloria (2001), Severino giunge, tra le altre cose, alla dimostrazione necessaria dell'esistenza degli \"altri\". Quando Cartesio infatti scopre che la carta vincente della scienza è la conferma delle ipotesi da parte dell'\"esperienza\", e cioè da parte della \"presenza certa a me\" da parte delle cose, si apre il problema della fondazione dell'esistenza appunto di altre dimensioni che come la mia accolgono l'accadere del mondo, ma che a differenza della mia non sono apparenti, non sono cioè da me \"visibili\". I fallimenti dei tentativi di soluzione a tale problema (eminentemente proposti ad opera della fenomenologia, sì che questo problema fu certamente uno dei più cogenti all'interno del discorso filosofico di Husserl), a cominciare da quello di Cartesio, si determineranno essenzialmente per l'assenza del senso autentico dell'essente e del senso dell'\"oltrepassamento\".\"L'oltrepassamento dell'attualità nella costellazione infinita di cerchi finiti dell'apparire del Destino\" è necessità dell'esistenza di un altro apparire finito, diverso da quello attuale.\n",
            "Nella Gloria, Severino perviene alla fondazione del senso autentico\n",
            "dell'\"oltrepassamento\", dopo aver stabilito nelle opere precedenti che il divenire autentico (cioè non nichilistico) non è il crearsi e l'annullarsi dell'essente, ma il comparire e lo sparire di ciò che è eterno.\n",
            "Ma è in questa sede innanzitutto fondamentale precisare, a partire da\n",
            "considerazioni svolte dallo stesso Severino in Destino della Necessità (1980) che le cose della \"terra\" (termine con il quale Severino designa la\n",
            "dimensione degli essenti che via via appaiono – e che, per contro, il nichilismo pensa come fuoriuscenti dal nulla ed al nulla ritornanti) \"incominciano\" ad apparire (il loro apparire esce cioè dall'ombra del non-apparire ed entra nel cerchio dell'apparire). Con \"cerchio dell'apparire\" si intende, qui, la totalità degli enti che appaiono: è, cioè, l'apparire in quanto ha come contenuto tutto ciò che appare (ossia è l'apparire \"trascendentale\"); l'apparire delle cose della terra, quell'apparire incominciante di cui sopra, è, perciò, la relazione tra il cerchio dell'apparire (l'apparire trascendentale) e una parte del suo contenuto.\n",
            "È altrettanto fondamentale precisare che l'incominciare della terra (a sua\n",
            "volta eterna), non aggiunge alcunché al Tutto eterno – che è, con Parmenide,\n",
            "appunto \"non incompiuto\" [ouk ateleuteton], \"non\n",
            "manchevole\" [oulon achineton] (Parmenide, fr. 8, vv 38, 33, 38). Anche\n",
            "l'incominciante apparire, difatti, è eterno: il suo incominciare è il suo\n",
            "entrare nel cerchio dell'apparire. Entrandovi, naturalmente, appare – ma questo apparire dell'entrare è lo stesso entrare, ossia è quello stesso di cui si dice che, eterno, entra nel cerchio dell'apparire. E, così come ogni ente, anche l'appartenenza della terra al cerchio dell'apparire è eterna.\n",
            "L'eterna appartenenza al cerchio dell'apparire entra nel cerchio eterno\n",
            "dell'apparire. Entrandovi, appare, e quest'ultimo apparire è lo stesso apparire incominciante in cui consiste l'incominciante appartenenza della terra al cerchio dell'apparire. L'apparire incominciante è cioè apparire di sé stesso (e di tutte le altre cose che incominciano ad apparire), ed è questa autoriflessione dell'apparire incominciante ciò che entra nel cerchio\n",
            "dell'apparire e incomincia a far parte del contenuto di questo cerchio.\n",
            "Ma ogni essente che incomincia ad apparire (ogni oltrepassante) è destinato\n",
            "ad essere oltrepassato: diventerebbe, altrimenti, condizione indispensabile\n",
            "dell'apparire degli essenti e quindi originarietà che sarebbe dovuta apparire già da sempre. Un oltrepassante che sia non oltrepassabile è impossibile, perché altrimenti esso dovrebbe iniziare ad appartenere allo \"Sfondo\" (e Severino intende, con questo termine, quel complesso di significati, o \"costanti persintattiche\" – costanti sintattiche di ogni significato –, senza i quali non apparirebbe nulla, motivo per cui non possono non essere sempre presenti. Tra questi ad esempio vi sono i significati «essere» e «nulla». Inoltre,\n",
            "la serie progressiva degli essenti che via via appaiono è necessariamente\n",
            "finita; infatti, se in direzione del passato fosse estensibile all'infinito, ci vorrebbe un percorso infinito, e quindi mai concluso, per giungere al momento attuale. C'è quindi un primo passo compiuto dalla terra.\n",
            "La totalità attuale di ciò che è destinato ad apparire è, per quanto sopra\n",
            "esposto, necessariamente oltrepassata. Ma in che senso?\n",
            "Essa non è, difatti, oltrepassata dall'apparire infinito – giacché\n",
            "l'apparire infinito (l'infinito oltrepassarsi da parte delle forme proprie dell'apparire finito – dove la Gloria è, per Severino, proprio questo infinito dispiegarsi) non è un oltrepassamento incominciante, ma è l'oltrepassamento già da sempre ed eternamente compiuto della totalità del finito. La totalità attuale dell'incominciante è, dunque, necessariamente oltrepassata da un incominciante – il quale non può apparire attualmente, ma è tuttavia necessario che appaia (in quanto l'incominciare è incominciare ad apparire), e che quindi è necessario che appaia sopraggiungendo in un cerchio diverso, altro, dal cerchio originario dell'apparire. La totalità simpliciter degli essenti-che-sono-degli-oltrepassanti (la totalità dell'oltrepassante, cioè, che include come parte la totalità attuale dell'oltrepassante) non può essere a sua volta oltrepassata, perché ciò che la oltrepasserebbe sarebbe un oltrepassante non incluso nella totalità dell'oltrepassante; e se l'oltrepassante (cioè l'incominciante) che oltrepassa la totalità degli oltrepassanti non fosse a sua volta oltrepassato, esso sarebbe quel contenuto impossibile che è, appunto (per\n",
            "quanto sopra esposto), l'incominciante non-oltrepassabile.\n",
            "Poiché la terra oltrepassa anche l'attualità dell'apparire del cerchio\n",
            "originario, sopraggiungendo in un cerchio diverso, il contenuto incominciante che appare nel cerchio originario dell'apparire attuale, è oltrepassato (infinitamente) in due direzioni:\n",
            "(a) In quanto contenuto incominciante, esso è oltrepassato lungo il\n",
            "dispiegamento infinito del contenuto attuale del cerchio originario (o, per\n",
            "utilizzare il lessico severiniano, lungo la Gloria del dispiegamento infinito della terra che si inoltra nel cerchio originario). Ma non è in quanto tale contenuto è attuale che esso viene oltrepassato lungo il dispiegamento infinito del contenuto attuale.\n",
            "(b) In quanto contenuto attuale (in quanto, cioè, alla sua attualità) il\n",
            "contenuto incominciante è oltrepassato invece in un altro cerchio – e in\n",
            "un'infinità di altri cerchi dell'apparire. L'oltrepassante-incominciante, qui, entra nell'apparire non attuale. Anche questa seconda direzione\n",
            "dell'oltrepassamento è un dispiegamento infinito nella Gloria, ma, appunto,\n",
            "nella gloria che consiste nell'infinito sopraggiungere, nel cerchio originario, della costellazione infinita degli altri cerchi. La gloria è l'unità di queste due dimensioni.\n",
            "La dimensione dell'essente, che incomincia cioè ad apparire nel cerchio\n",
            "originario, è necessariamente oltrepassata da un'altra dimensione dell'essente (perché l'incominciante non può incominciare ad appartenere all'essenza dello Sfondo, non incominciante e non tramontante, del cerchio originario); ma anche l'attualità dell'essente che incomincia ad apparire – ossia anche l'apparire (che, in quanto tale, è apparire attuale) dell'essente che incomincia ad apparire – incomincia ad apparire, sì che (per lo stesso motivo) è necessariamente oltrepassata in un altro cerchio dell'apparire; e anche la sintesi tra l'attualità del cerchio originario e l'attualità in sé dell'altro cerchio incomincia ad apparire nel cerchio originario, quando in esso incomincia ad apparire ciò che ne oltrepassa l'attualità; e dunque (per lo stesso motivo) tale sintesi è oltrepassata in un terzo cerchio (e, cioè, l'attualità in sé dell'altro cerchio non è oltrepassata solo nel cerchio originario, ma necessariamente in un terzo cerchio) – e così all'infinito.\n",
            "In definitiva, l'oltrepassamento dell'attualità di un cerchio non avviene\n",
            "solo lungo la dimensione \"verticale\" del singolo cerchio, ma anche\n",
            "lungo quella \"orizzontale\" della costellazione di cerchi del Destino.\n",
            "L'oltrepassamento hegeliano, invece, conserva \"idealmente\", cioè astrattamente, ciò che oltrepassa, e non realmente, determinandone la distruzione. In un contesto siffatto è fondata l'impossibilità dell'esistenza degli \"altri\", perché l'altro, che è il mio oltrepassante, determinerebbe il mio superamento, e mi consegnerebbe ad una dimensione puramente ideale. Infatti nel sistema hegeliano l'esistenza degli altri significa l'esistenza di soggetti empirici, sensibili, che è quindi comunque interna all'esistenza produttiva dell'unico \"Io\".\n",
            "Il nichilismo è un essente che incomincia ad apparire, ed è quindi destinato ad essere oltrepassato. L'essente che oltrepassa il nichilismo è l'essente che porta al tramonto l'isolamento del senso delle cose dalla verità. Il nichilismo è, infatti, pensare e vivere le cose come nulla in quanto delle cose non appare il legame alla struttura originaria della verità, e quindi non appare l'eternità. L'essente, o la dimensione di essenti, che porta al tramonto l'isolamento del senso delle cose dalla verità è la \"Gloria\" (cioè la manifestazione) della verità stessa. L'ampiezza dell'isolamento non coinvolge solo il legame tra i singoli essenti e la verità, ma anche il legame tra gli infiniti cerchi dell'apparire, il loro passato e il futuro del percorso che la terra è destinata a compiere in essi.\n",
            "Nella Gloria non si è Dio, perché Dio crea ed annienta le cose anche e soprattutto quando ama; e dunque appartiene al regno dell'errore perché l'amore è volontà e la volontà è voler alterare il senso proprio ed eterno, cancellarne l'identità. Dio è, quindi, infinitamente meno della più umbratile tra le cose vere. Tutto è oltre Dio - e oltre ogni forma di mortalità, compresa la vita umana come credenza nel poter creare e annientare gli essenti.\n",
            "\n",
            "\n",
            "== Opere ==\n",
            "\n",
            "\n",
            "=== Curatele ===\n",
            " Aristotele, I principi del divenire. Libro primo della Fisica, trad., introd. e commento di E. Severino, Brescia, La Scuola, 1957.\n",
            "\n",
            "\n",
            "== Onorificenze ==\n",
            "\n",
            "\n",
            "== Note ==\n",
            "\n",
            "\n",
            "== Bibliografia ==\n",
            "Amadori F., Il libero arbitrio: Schopenhauer e Severino, in \"Filosofia\" - quadrimestrale, terza serie, Anno LVI, Fasc. II-III: maggio-dicembre 2005.\n",
            "Antonelli A., Verità, nichilismo, prassi. Saggio sul pensiero di Emanuele Severino, Roma, Armando, 2003.\n",
            "Berto F., La dialettica della struttura originaria, Padova, Il Poligrafo, 2003.\n",
            "Crapanzano G.E., L'immutabilità del diveniente. Saggio sul pensiero di Emanuele Severino, Roma, Gruppo Albatros Il Filo, 2008.\n",
            "Cusano N., Capire Severino. La risoluzione dell'aporetica del nulla, Prefazione di Emanuele Severino, Milano, Mimesis Edizioni, 2011.\n",
            "Cusano N., Emanuele Severino. Oltre il nichilismo, Prefazione di Emanuele Severino, Brescia, Morcelliana, 2011.\n",
            "Dal Sasso A., Dal divenire all'oltrepassare. La differenza ontologica nel pensiero di Emanuele Severino, Prefazione di Giorgio Brianese, Roma, Aracne, 2009.\n",
            "Dal Sasso A., Creatio ex nihilo. Le origini del pensiero di Emanuele Severino tra attualismo e metafisica, Prefazione di Emanuele Severino, Milano, Mimesis Edizioni, 2015.\n",
            "De Giovanni B., Disputa sul divenire. Gentile e Severino, Napoli, Editoriale Scientifica, 2013.\n",
            "De Paoli M., Furor Logicus. L'eternità nel pensiero di Emanuele Severino, Milano, Franco Angeli, 2009.\n",
            "Donà M., Aporia del fondamento, Napoli, Città del Sole, 2000; nuova edizione ampliata: Milano, Mimesis Edizioni, 2008.\n",
            "Fabro C., L'alienazione dell'Occidente. Osservazioni sul pensiero di Emanuele Severino, Genova, Quadrivium, 1981.\n",
            "Goggi G., Al cuore del destino. Scritti sul pensiero di Emanuele Severino, Milano, Mimesis Edizioni, 2014.\n",
            "Goggi, G., Emanuele Severino, Città del Vaticano, Lateran University Press, 2015.\n",
            "Greyer C.-F., Der Nihilismus, Europa und eine neue Ontologie. Emanuele Severinos Analyse über das 'Wesen des Nihilismus', Franziskanische Studien, n. 67, 1985, 209-216.\n",
            "Hoffmann T. S., 'Alles ist voll von Sein'. Emanuele Severinos Rückgriff auf Parmenides und die Überwindung des Nihilismus, Wiener Jahrbücher für Philosophie, 1993, n. 25, 163-186.\n",
            "Hoffmann T. S., Philosophie in Italien. Eine Einführung in 20 Porträts, Wiesbaden, Marix Verlag, 2007.\n",
            "Magliulo, N., Cacciari e Severino. Quaestiones disputatae, Milano-Udine, Mimesis, 2010.\n",
            "Mauceri, L., La hybris originaria. Massimo Cacciari ed Emanuele Severino, Napoli-Salerno, Orthotes Editrice, 2017.\n",
            "Messinese L., L'apparire del mondo. Dialogo con Emanuele Severino sulla “struttura originaria” del sapere, Milano, Mimesis, 2008.\n",
            "Messinese L., Il paradiso della verità. Incontro con il pensiero di Emanuele Severino, Pisa, ETS, 2010.\n",
            "Messinese L., Stanze della metafisica. Heidegger, Löwith, Carlini, Bontadini, Severino, Brescia, Morcelliana, 2012.\n",
            "Messinese L., Né laico, né cattolico. Severino, la Chiesa, la filosofia, Bari, Dedalo, 2013.\n",
            "Petterlini A., Brianese G. e Goggi G. (a cura di), Le parole dell'Essere. Per Emanuele Severino, Milano, Mondadori, 2005.\n",
            "Poma P., Necessità del divenire. Una critica a Emanuele Severino, Pisa, ETS, 2011.\n",
            "Saccardi F., Metafisica e parmenidismo. Il contributo della filosofia neoclassica, Napoli-Salerno, Orthotes, 2016.\n",
            "Scilironi C., Ontologia e storia nel pensiero di Emanuele Severino, Abano Terme (RM), Francisci, 1980.\n",
            "Scurati M., Pensare l'identità. Da Schelling a Severino, Milano, Alboversorio, 2008.\n",
            "Simionato M., Nulla e negazione. L'aporia del nulla dopo Emanuele Severino, Prefazione di Emanuele Severino, Pisa, Edizioni Plus (Pisa University Press), 2012.\n",
            "Soncini U., Il senso del fondamento in Hegel e Severino, Genova, Marietti, 1820, 2008.\n",
            "Spanio D. (a cura di), Il destino dell'essere. Dialogo con Emanuele Severino, Brescia, Morcelliana, 2013.\n",
            "Sperduto D., Vedere senza vedere ovvero Il crepuscolo della morte, Prefazione di E. Severino, Fasano di Brindisi (BR), Schena Editore, 2007.\n",
            "Sperduto D., Maestri futili? Gabriele D'Annunzio, Carlo Levi, Cesare Pavese, Emanuele Severino, Roma, Aracne, 2009.\n",
            "Sperduto D., Il divenire dell'eterno. Su Emanuele Severino (e Dante), Prefazione di L. Messinese, Roma, Aracne, 2012.\n",
            "Sperduto D., Verità, necessità e la sfida etica di Emanuele Severino, \"Dianoia\", n. 30, giugno 2020, pp. 207-223.\n",
            "Testoni I. (a cura di), Emanuele Severino, La follia dell'angelo, Milano, Mimesis, 2006.\n",
            "Tarca L.V., Verità, alienazione e metafisica. Rilettura critica della proposta filosofica di Emanuele Severino, Treviso, Mevio Washington, 1980.\n",
            "Valent I. (a cura di), Cura e salvezza. Saggi dedicati a Emanuele Severino, Bergamo, Moretti & Vitali, 2000.\n",
            "Visentin M., Tra struttura e problema. Note intorno al pensiero di E. Severino, Venezia, Marsilio, 1982 [ora in Il neoparmenidismo italiano, II, Dal neoidealismo al neoparmenidismo, Napoli, Bibliopolis, 2011, pp. 301–426].\n",
            "\n",
            "\n",
            "== Voci correlate ==\n",
            "Metafisica\n",
            "Ontologia\n",
            "Episteme\n",
            "Nichilismo\n",
            "Giacomo Leopardi\n",
            "Friedrich Nietzsche\n",
            "Parmenide\n",
            "Martin Heidegger\n",
            "Rasoio di Occam\n",
            "Italo Valent\n",
            "Umberto Galimberti\n",
            "\n",
            "\n",
            "== Altri progetti ==\n",
            "\n",
            " Wikiquote contiene citazioni di o su Emanuele Severino\n",
            " Wikimedia Commons contiene immagini o altri file su Emanuele Severino\n",
            "\n",
            "\n",
            "== Collegamenti esterni ==\n",
            "\n",
            "(IT, EN) Sito ufficiale, su emanueleseverino.it. \n",
            " Emanuele Severino, su Treccani.it – Enciclopedie on line, Istituto dell'Enciclopedia Italiana. \n",
            " Emanuele Severino, su BeWeb, Conferenza Episcopale Italiana. \n",
            " Opere di Emanuele Severino, su openMLOL, Horizons Unlimited srl. \n",
            "(EN) Opere di Emanuele Severino, su Open Library, Internet Archive. \n",
            "(EN) Emanuele Severino, su Goodreads. \n",
            " Registrazioni di Emanuele Severino, su RadioRadicale.it, Radio Radicale. \n",
            " Vi racconto il mio scontro con la Chiesa Cattolica, su ricerca.repubblica.it. URL consultato il 30 settembre 2019.\n",
            " Rassegna stampa di e su Severino, su lgxserver.uniba.it. URL consultato il 26 gennaio 2006.\n",
            " Rassegna stampa di e su Severino, su lgxserver.uniba.it. URL consultato il 26 gennaio 2006 (archiviato dall'url originale il 23 giugno 2009).\n",
            " Video intervista a Emanuele Severino, su asia.it., sito ASIA, Associazione spazio interiore ambiente\n",
            " Emanuele Severino, sul portale RAI Filosofia, su filosofia.rai.it.\n",
            " pensiero di Emanuele Severino, su emanueleseverino.com. a cura di Vasco Ursini\n"
          ],
          "name": "stdout"
        }
      ]
    },
    {
      "cell_type": "code",
      "metadata": {
        "id": "M0fKDvv-1h6A"
      },
      "source": [
        "'''select ?philosopher ?philosopherLabel ?date ?wikisourceSiteLink \n",
        "{?philosopher wdt:P106 wd:Q4964182 ;\n",
        " wdt:P569 ?date .\n",
        " ?wikisourceSiteLink schema:isPartOf [ wikibase:wikiGroup \"wikisource\" ];\n",
        "                      schema:inLanguage \"en\";\n",
        "                      schema:about ?philosopher.\n",
        " FILTER (YEAR(?date) >= 1700)\n",
        " SERVICE wikibase:label { bd:serviceParam wikibase:language \"en\" }\n",
        " }\n",
        "limit 10\n",
        "\n",
        "\n",
        "SELECT ?philosopher ?philosopherLabel ?date ?immagine ?opere_rilevanti ?opere_rilevantiLabel WHERE {\n",
        "  ?philosopher wdt:P106 wd:Q4964182;\n",
        "    wdt:P569 ?date.\n",
        "  FILTER((YEAR(?date)) >= 1500 )\n",
        "  FILTER((YEAR(?date)) <= 2000 )\n",
        "  SERVICE wikibase:label { bd:serviceParam wikibase:language \"en\". }\n",
        "  OPTIONAL { ?philosopher wdt:P18 ?immagine. }\n",
        "  OPTIONAL { ?philosopher wdt:P800 ?opere_rilevanti. }  \n",
        "}\n",
        "\n",
        "\n",
        "\n",
        "COUNT DAL -500 a 0\n",
        "SELECT (count(DISTINCT ?philosopher) AS ?count)   WHERE {\n",
        "  ?philosopher wdt:P106 wd:Q4964182;\n",
        "    wdt:P569 ?date.\n",
        "  FILTER((YEAR(?date)) >= -500 )\n",
        "  FILTER((YEAR(?date)) <= 0 )\n",
        "  SERVICE wikibase:label { bd:serviceParam wikibase:language \"en\". }\n",
        "} GROUP BY ?count\n",
        "\n",
        "QUERY PER CERCARE QUELLI CON LE OPERE PIU RILEVANTI\n",
        "SELECT (count(?philosopherLabel) AS ?count)  ?philosopherLabel WHERE {\n",
        "  ?philosopher wdt:P106 wd:Q4964182;\n",
        "    wdt:P569 ?date.\n",
        "  FILTER((YEAR(?date)) >= 1500 )\n",
        "  FILTER((YEAR(?date)) <= 2000 )\n",
        "  SERVICE wikibase:label { bd:serviceParam wikibase:language \"en\". }\n",
        "  OPTIONAL { ?philosopher wdt:P18 ?immagine. }\n",
        "  OPTIONAL { ?philosopher wdt:P800 ?opere_rilevanti. }  \n",
        "} GROUP BY ?philosopherLabel\n",
        "ORDER BY DESC(?count)\n",
        "\n",
        "\n",
        "QUERY PER CONTARE LE NAZIONI CON PIU' FILOSOFI IN UN PERIODO STORICO PRECISO\n",
        "SELECT (COUNT(?paese_di_cittadinanzaLabel) AS ?count) ?paese_di_cittadinanzaLabel WHERE {\n",
        "  ?philosopher wdt:P106 wd:Q4964182;\n",
        "    wdt:P569 ?date.\n",
        "  FILTER((YEAR(?date)) >= 1500 )\n",
        "  FILTER((YEAR(?date)) <= 2000 )\n",
        "  SERVICE wikibase:label { bd:serviceParam wikibase:language \"en\". }\n",
        "  OPTIONAL { ?philosopher wdt:P27 ?paese_di_cittadinanza. }\n",
        "} GROUP BY ?paese_di_cittadinanzaLabel\n",
        "ORDER BY DESC(?count)\n",
        "\n",
        "'''"
      ],
      "execution_count": null,
      "outputs": []
    },
    {
      "cell_type": "markdown",
      "metadata": {
        "id": "Zl6RUQmN41ew"
      },
      "source": [
        "1) Numero dei filosofi totali dal 500 a.c ad oggi\n",
        "\n",
        "2) da 500 a.c a 0 a.c / da 0 a 1000 e da 1000 a 2021. Gen x e filosofi millenials (dal 1975 in poi)\n",
        "\n",
        "3) divisione geografica (p.e. concentrazione per country o continenti)\n",
        "\n",
        "4) divisione per correnti (p.e. esistenziali, presocratrici, aristotelici, etc)\n",
        "\n",
        "5)divisione per sesso\n",
        "\n"
      ]
    },
    {
      "cell_type": "markdown",
      "metadata": {
        "id": "MCPu2O3GM_bA"
      },
      "source": [
        "Import necessari per eseguire il codice. Si autogenerano grazie all'opzione specifica di Wikidata Query Service!\n"
      ]
    },
    {
      "cell_type": "code",
      "metadata": {
        "id": "81ccmGepNG-J"
      },
      "source": [
        "# pip install sparqlwrapper\n",
        "# https://rdflib.github.io/sparqlwrapper/\n",
        "\n",
        "import sys\n",
        "from SPARQLWrapper import SPARQLWrapper, JSON"
      ],
      "execution_count": null,
      "outputs": []
    },
    {
      "cell_type": "markdown",
      "metadata": {
        "id": "SYs3nT4yMpzm"
      },
      "source": [
        "Partiamo con il dato più semplice possibile: quanti filosofi troviamo su wikidata?"
      ]
    },
    {
      "cell_type": "code",
      "metadata": {
        "id": "rI-avxqHMl3u",
        "colab": {
          "base_uri": "https://localhost:8080/"
        },
        "outputId": "9d3afe62-0d77-46f0-8b42-c52921f265f1"
      },
      "source": [
        "endpoint_url = \"https://query.wikidata.org/sparql\"\n",
        "\n",
        "query_phil = \"\"\"\n",
        "SELECT (count(DISTINCT ?philosopher) AS ?count)   WHERE {\n",
        "  ?philosopher wdt:P106 wd:Q4964182;\n",
        "    wdt:P569 ?date.\n",
        "\n",
        "  SERVICE wikibase:label { bd:serviceParam wikibase:language \"en\". }\n",
        "} GROUP BY ?count\"\"\"\n",
        "\n",
        "query_mat=\"\"\"\n",
        "SELECT (count(DISTINCT ?mathematician) AS ?count)   WHERE {\n",
        "  ?mathematician  wdt:P106 wd:Q170790;\n",
        "    wdt:P569 ?date.\n",
        "\n",
        "  SERVICE wikibase:label { bd:serviceParam wikibase:language \"en\". }\n",
        "} GROUP BY ?count\"\"\"\n",
        "\n",
        "query_writer=\"\"\"\n",
        "\n",
        "SELECT (count(DISTINCT ?writer  ) AS ?count)   WHERE {\n",
        "  ?writer    wdt:P106 wd:Q36180;\n",
        "    wdt:P569 ?date.\n",
        "\n",
        "  SERVICE wikibase:label { bd:serviceParam wikibase:language \"en\". }\n",
        "} GROUP BY ?count\"\"\"\n",
        "\n",
        "\n",
        "query_phis=\"\"\"\n",
        "SELECT (count(DISTINCT ?physicist   ) AS ?count)   WHERE {\n",
        "  ?physicist     wdt:P106 wd:Q169470;\n",
        "    wdt:P569 ?date.\n",
        "\n",
        "  SERVICE wikibase:label { bd:serviceParam wikibase:language \"en\". }\n",
        "} GROUP BY ?count\"\"\"\n",
        "\n",
        "def get_results(endpoint_url, query):\n",
        "    user_agent = \"WDQS-example Python/%s.%s\" % (sys.version_info[0], sys.version_info[1])\n",
        "    # TODO adjust user agent; see https://w.wiki/CX6\n",
        "    sparql = SPARQLWrapper(endpoint_url, agent=user_agent)\n",
        "    sparql.setQuery(query)\n",
        "    sparql.setReturnFormat(JSON)\n",
        "    return sparql.query().convert()\n",
        "\n",
        "\n",
        "results_phil = get_results(endpoint_url, query_phil)\n",
        "\n",
        "for result in results_phil[\"results\"][\"bindings\"]:\n",
        "    print(result['count']['value'])\n",
        "    num_phil=result['count']['value']\n",
        "\n",
        "results_mat = get_results(endpoint_url, query_mat)\n",
        "\n",
        "for result in results_mat[\"results\"][\"bindings\"]:\n",
        "    print(result['count']['value'])\n",
        "    num_mat=result['count']['value']\n",
        "\n",
        "results_writer = get_results(endpoint_url, query_writer)\n",
        "\n",
        "for result in results_writer[\"results\"][\"bindings\"]:\n",
        "    print(result['count']['value'])\n",
        "    num_writer=result['count']['value']\n",
        "\n",
        "results_phis = get_results(endpoint_url, query_phis)\n",
        "\n",
        "for result in results_phis[\"results\"][\"bindings\"]:\n",
        "    print(result['count']['value'])\n",
        "    num_phis=result['count']['value']\n"
      ],
      "execution_count": null,
      "outputs": [
        {
          "output_type": "stream",
          "text": [
            "20576\n",
            "21922\n",
            "252035\n",
            "19798\n"
          ],
          "name": "stdout"
        }
      ]
    },
    {
      "cell_type": "code",
      "metadata": {
        "colab": {
          "base_uri": "https://localhost:8080/",
          "height": 265
        },
        "id": "0HmTHURAPeGd",
        "outputId": "a9a50610-c322-4b77-cacb-ea27078ccceb"
      },
      "source": [
        "#@title\n",
        "import matplotlib.pyplot as plt\n",
        "\n",
        "fig = plt.figure()\n",
        "langs = ['Philosophers', 'Mathematicians', 'Physicists']\n",
        "students = [int(num_phil),int(num_mat), int(num_phis)]\n",
        "plt.bar(langs,students)\n",
        "plt.show()"
      ],
      "execution_count": null,
      "outputs": [
        {
          "output_type": "display_data",
          "data": {
            "image/png": "[encoded data removed]",
            "text/plain": [
              "<Figure size 432x288 with 1 Axes>"
            ]
          },
          "metadata": {
            "tags": [],
            "needs_background": "light"
          }
        }
      ]
    },
    {
      "cell_type": "markdown",
      "metadata": {
        "id": "Tc_6PoRHUl1e"
      },
      "source": [
        "Nel prossimo blocco dividiamo il numero dei filosofi in epoche storiche, così come le conosciamo a scuola: filosofi dell'età antica, medievale, moderna e contemporanea."
      ]
    },
    {
      "cell_type": "code",
      "metadata": {
        "colab": {
          "base_uri": "https://localhost:8080/"
        },
        "id": "RI03F5Ud7BAm",
        "outputId": "bfa9d8a5-b94f-4061-cd5c-19d0793357ca"
      },
      "source": [
        "#@title\n",
        "endpoint_url = \"https://query.wikidata.org/sparql\"\n",
        "\n",
        "query_phil_ancient = \"\"\"\n",
        "SELECT (count(DISTINCT ?philosopher) AS ?count)   WHERE {\n",
        "  ?philosopher wdt:P106 wd:Q4964182;\n",
        "    wdt:P569 ?date.\n",
        "  FILTER((YEAR(?date)) >= -1500 )\n",
        "  FILTER((YEAR(?date)) <= 476 )\n",
        "  SERVICE wikibase:label { bd:serviceParam wikibase:language \"en\". }\n",
        "} GROUP BY ?count\"\"\"\n",
        "\n",
        "query_phil_medieval = \"\"\"\n",
        "SELECT (count(DISTINCT ?philosopher) AS ?count)   WHERE {\n",
        "  ?philosopher wdt:P106 wd:Q4964182;\n",
        "    wdt:P569 ?date.\n",
        "  FILTER((YEAR(?date)) >= 476 )\n",
        "  FILTER((YEAR(?date)) <= 1492 )\n",
        "  SERVICE wikibase:label { bd:serviceParam wikibase:language \"en\". }\n",
        "} GROUP BY ?count\n",
        "\"\"\"\n",
        "\n",
        "query_phil_modern=\"\"\"\n",
        "SELECT (count(DISTINCT ?philosopher) AS ?count)   WHERE {\n",
        "  ?philosopher wdt:P106 wd:Q4964182;\n",
        "    wdt:P569 ?date.\n",
        "  FILTER((YEAR(?date)) >= 1493 )\n",
        "  FILTER((YEAR(?date)) <= 1800 )\n",
        "  SERVICE wikibase:label { bd:serviceParam wikibase:language \"en\". }\n",
        "} GROUP BY ?count\"\"\"\n",
        "\n",
        "query_phil_contemporary=\"\"\"SELECT (count(DISTINCT ?philosopher) AS ?count)   WHERE {\n",
        "  ?philosopher wdt:P106 wd:Q4964182;\n",
        "    wdt:P569 ?date.\n",
        "  FILTER((YEAR(?date)) >= 1801 )\n",
        "  FILTER((YEAR(?date)) <= 2000 )\n",
        "  SERVICE wikibase:label { bd:serviceParam wikibase:language \"en\". }\n",
        "} GROUP BY ?count\"\"\"\n",
        "\n",
        "\n",
        "def get_results(endpoint_url, query):\n",
        "    user_agent = \"WDQS-example Python/%s.%s\" % (sys.version_info[0], sys.version_info[1])\n",
        "    # TODO adjust user agent; see https://w.wiki/CX6\n",
        "    sparql = SPARQLWrapper(endpoint_url, agent=user_agent)\n",
        "    sparql.setQuery(query)\n",
        "    sparql.setReturnFormat(JSON)\n",
        "    return sparql.query().convert()\n",
        "\n",
        "results_query_phil_ancient = get_results(endpoint_url, query_phil_ancient)\n",
        "results_query_phil_medieval = get_results(endpoint_url, query_phil_medieval)\n",
        "results_query_phil_modern = get_results(endpoint_url, query_phil_modern)\n",
        "results_query_phil_contemporary = get_results(endpoint_url, query_phil_contemporary)\n",
        "\n",
        "for result in results_query_phil_ancient[\"results\"][\"bindings\"]:\n",
        "    print(result['count']['value'])\n",
        "    num_ancient=result['count']['value']\n",
        "\n",
        "for result in results_query_phil_medieval[\"results\"][\"bindings\"]:\n",
        "    print(result['count']['value'])\n",
        "    num_medieval=result['count']['value']\n",
        "\n",
        "for result in results_query_phil_modern[\"results\"][\"bindings\"]:\n",
        "    print(result['count']['value'])\n",
        "    num_modern=result['count']['value']\n",
        "    \n",
        "for result in results_query_phil_contemporary[\"results\"][\"bindings\"]:\n",
        "    print(result['count']['value'])\n",
        "    num_contemporary=result['count']['value']\n",
        "\n"
      ],
      "execution_count": null,
      "outputs": [
        {
          "output_type": "stream",
          "text": [
            "653\n",
            "943\n",
            "2602\n",
            "16308\n"
          ],
          "name": "stdout"
        }
      ]
    },
    {
      "cell_type": "code",
      "metadata": {
        "colab": {
          "base_uri": "https://localhost:8080/",
          "height": 265
        },
        "cellView": "form",
        "id": "208Kd_PJ8nl9",
        "outputId": "f345fcf6-dc9d-4449-9112-525da2a3801e"
      },
      "source": [
        "#@title\n",
        "import matplotlib.pyplot as plt\n",
        "\n",
        "fig = plt.figure()\n",
        "cat = ['Ancient', 'Medieval', 'Modern', 'Contemporary']\n",
        "philosophers_in_era = [int(num_ancient),int(num_medieval), int(num_modern), int(num_contemporary)]\n",
        "plt.bar(cat,philosophers_in_era)\n",
        "plt.show()"
      ],
      "execution_count": null,
      "outputs": [
        {
          "output_type": "display_data",
          "data": {
            "image/png": "[encoded data removed]",
            "text/plain": [
              "<Figure size 432x288 with 1 Axes>"
            ]
          },
          "metadata": {
            "tags": [],
            "needs_background": "light"
          }
        }
      ]
    },
    {
      "cell_type": "markdown",
      "metadata": {
        "id": "ZsylO3DS9G7k"
      },
      "source": [
        "Su wikidata abbiamo **più filosofi negli ultimi 200 anni che per tutto il resto della nostra storia**. Lo avreste mai detto? \n",
        "Puoi provare a modificare gli estremi di ricerca. Io ho utilizzato dei periodi standard. Perché non provi a vedere quanti filosofi sono nati negli ultimi cinquant'anni?"
      ]
    },
    {
      "cell_type": "code",
      "metadata": {
        "colab": {
          "base_uri": "https://localhost:8080/",
          "height": 132,
          "referenced_widgets": [
            "a3340a3577784df184b699e4d6591aed",
            "0e9bbe417c3a429e924e7d6582727b84",
            "16dca20a22b14fc990db7aae1fc292af",
            "6189fff0706a45e0abb94fb761c8bb69",
            "9e3efedc9d8f4472bdbb1f8e1e6f3e01",
            "6627fcbed4b049a7b44a72ac5a38b96b"
          ]
        },
        "id": "LocfF9BG-y7k",
        "outputId": "8369e03f-b32c-4deb-9348-8ad1727d9aa4"
      },
      "source": [
        "import ipywidgets as widgets\n",
        "print(\"Seleziona la data di limitazione inferiore\")\n",
        "slider = widgets.IntSlider(value=1000, max=2000)\n",
        "display(slider)\n",
        "print(\"Seleziona la data di limitazione superiore\")\n",
        "slider_2 = widgets.IntSlider(value=1000, max=2000)\n",
        "display(slider_2)\n",
        "print(\"Devi eseguire questa cella solo una volta, è interattiva, quindi dopo aver selezionato il range desiderato esegui solamente la cella successiva!\")"
      ],
      "execution_count": null,
      "outputs": [
        {
          "output_type": "stream",
          "text": [
            "Seleziona la data di limitazione inferiore\n"
          ],
          "name": "stdout"
        },
        {
          "output_type": "display_data",
          "data": {
            "application/vnd.jupyter.widget-view+json": {
              "model_id": "a3340a3577784df184b699e4d6591aed",
              "version_minor": 0,
              "version_major": 2
            },
            "text/plain": [
              "IntSlider(value=1000, max=2000)"
            ]
          },
          "metadata": {
            "tags": []
          }
        },
        {
          "output_type": "stream",
          "text": [
            "Seleziona la data di limitazione superiore\n"
          ],
          "name": "stdout"
        },
        {
          "output_type": "display_data",
          "data": {
            "application/vnd.jupyter.widget-view+json": {
              "model_id": "6189fff0706a45e0abb94fb761c8bb69",
              "version_minor": 0,
              "version_major": 2
            },
            "text/plain": [
              "IntSlider(value=1000, max=2000)"
            ]
          },
          "metadata": {
            "tags": []
          }
        },
        {
          "output_type": "stream",
          "text": [
            "Devi eseguire questa cella solo una volta, è interattiva, quindi dopo aver selezionato il range desiderato esegui solamente la cella successiva!\n"
          ],
          "name": "stdout"
        }
      ]
    },
    {
      "cell_type": "code",
      "metadata": {
        "colab": {
          "base_uri": "https://localhost:8080/"
        },
        "id": "4qdDB8ko_xmk",
        "outputId": "23d1cb8f-4f31-4e8d-9e0b-a1beb040a64c"
      },
      "source": [
        "endpoint_url = \"https://query.wikidata.org/sparql\"\n",
        "\n",
        "query_phil_you_search = \"\"\"\n",
        "SELECT (count(DISTINCT ?philosopher) AS ?count)   WHERE {\n",
        "  ?philosopher wdt:P106 wd:Q4964182;\n",
        "    wdt:P569 ?date.\n",
        "  FILTER((YEAR(?date)) >= \"\"\"+ str(slider.value)+\"\"\" )\n",
        "  FILTER((YEAR(?date)) <= \"\"\"+str(slider_2.value)+\"\"\" )\n",
        "  SERVICE wikibase:label { bd:serviceParam wikibase:language \"en\". }\n",
        "} GROUP BY ?count\"\"\"\n",
        "\n",
        "def get_results(endpoint_url, query):\n",
        "    user_agent = \"WDQS-example Python/%s.%s\" % (sys.version_info[0], sys.version_info[1])\n",
        "    # TODO adjust user agent; see https://w.wiki/CX6\n",
        "    sparql = SPARQLWrapper(endpoint_url, agent=user_agent)\n",
        "    sparql.setQuery(query)\n",
        "    sparql.setReturnFormat(JSON)\n",
        "    return sparql.query().convert()\n",
        "\n",
        "results_query_phil_you_search = get_results(endpoint_url, query_phil_you_search)\n",
        "\n",
        "for result in results_query_phil_you_search[\"results\"][\"bindings\"]:\n",
        "    print(result['count']['value'])\n",
        "    num_phil_you_search=result['count']['value']"
      ],
      "execution_count": null,
      "outputs": [
        {
          "output_type": "stream",
          "text": [
            "10806\n"
          ],
          "name": "stdout"
        }
      ]
    }
  ]
}
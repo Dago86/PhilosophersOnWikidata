{
  "nbformat": 4,
  "nbformat_minor": 0,
  "metadata": {
    "colab": {
      "name": "wikipedia.ipynb",
      "provenance": [],
      "collapsed_sections": [],
      "authorship_tag": "ABX9TyNcv4LBvbS+Luivh6FB1hrj",
      "include_colab_link": true
    },
    "kernelspec": {
      "name": "python3",
      "display_name": "Python 3"
    },
    "widgets": {
      "application/vnd.jupyter.widget-state+json": {
        "a3340a3577784df184b699e4d6591aed": {
          "model_module": "@jupyter-widgets/controls",
          "model_name": "IntSliderModel",
          "state": {
            "_view_name": "IntSliderView",
            "style": "IPY_MODEL_0e9bbe417c3a429e924e7d6582727b84",
            "_dom_classes": [],
            "description": "",
            "step": 1,
            "_model_name": "IntSliderModel",
            "orientation": "horizontal",
            "max": 2000,
            "_view_module": "@jupyter-widgets/controls",
            "_model_module_version": "1.5.0",
            "value": 1000,
            "_view_count": null,
            "disabled": false,
            "_view_module_version": "1.5.0",
            "min": 0,
            "continuous_update": true,
            "readout_format": "d",
            "description_tooltip": null,
            "readout": true,
            "_model_module": "@jupyter-widgets/controls",
            "layout": "IPY_MODEL_16dca20a22b14fc990db7aae1fc292af"
          }
        },
        "0e9bbe417c3a429e924e7d6582727b84": {
          "model_module": "@jupyter-widgets/controls",
          "model_name": "SliderStyleModel",
          "state": {
            "_view_name": "StyleView",
            "handle_color": null,
            "_model_name": "SliderStyleModel",
            "description_width": "",
            "_view_module": "@jupyter-widgets/base",
            "_model_module_version": "1.5.0",
            "_view_count": null,
            "_view_module_version": "1.2.0",
            "_model_module": "@jupyter-widgets/controls"
          }
        },
        "16dca20a22b14fc990db7aae1fc292af": {
          "model_module": "@jupyter-widgets/base",
          "model_name": "LayoutModel",
          "state": {
            "_view_name": "LayoutView",
            "grid_template_rows": null,
            "right": null,
            "justify_content": null,
            "_view_module": "@jupyter-widgets/base",
            "overflow": null,
            "_model_module_version": "1.2.0",
            "_view_count": null,
            "flex_flow": null,
            "width": null,
            "min_width": null,
            "border": null,
            "align_items": null,
            "bottom": null,
            "_model_module": "@jupyter-widgets/base",
            "top": null,
            "grid_column": null,
            "overflow_y": null,
            "overflow_x": null,
            "grid_auto_flow": null,
            "grid_area": null,
            "grid_template_columns": null,
            "flex": null,
            "_model_name": "LayoutModel",
            "justify_items": null,
            "grid_row": null,
            "max_height": null,
            "align_content": null,
            "visibility": null,
            "align_self": null,
            "height": null,
            "min_height": null,
            "padding": null,
            "grid_auto_rows": null,
            "grid_gap": null,
            "max_width": null,
            "order": null,
            "_view_module_version": "1.2.0",
            "grid_template_areas": null,
            "object_position": null,
            "object_fit": null,
            "grid_auto_columns": null,
            "margin": null,
            "display": null,
            "left": null
          }
        },
        "6189fff0706a45e0abb94fb761c8bb69": {
          "model_module": "@jupyter-widgets/controls",
          "model_name": "IntSliderModel",
          "state": {
            "_view_name": "IntSliderView",
            "style": "IPY_MODEL_9e3efedc9d8f4472bdbb1f8e1e6f3e01",
            "_dom_classes": [],
            "description": "",
            "step": 1,
            "_model_name": "IntSliderModel",
            "orientation": "horizontal",
            "max": 2000,
            "_view_module": "@jupyter-widgets/controls",
            "_model_module_version": "1.5.0",
            "value": 1000,
            "_view_count": null,
            "disabled": false,
            "_view_module_version": "1.5.0",
            "min": 0,
            "continuous_update": true,
            "readout_format": "d",
            "description_tooltip": null,
            "readout": true,
            "_model_module": "@jupyter-widgets/controls",
            "layout": "IPY_MODEL_6627fcbed4b049a7b44a72ac5a38b96b"
          }
        },
        "9e3efedc9d8f4472bdbb1f8e1e6f3e01": {
          "model_module": "@jupyter-widgets/controls",
          "model_name": "SliderStyleModel",
          "state": {
            "_view_name": "StyleView",
            "handle_color": null,
            "_model_name": "SliderStyleModel",
            "description_width": "",
            "_view_module": "@jupyter-widgets/base",
            "_model_module_version": "1.5.0",
            "_view_count": null,
            "_view_module_version": "1.2.0",
            "_model_module": "@jupyter-widgets/controls"
          }
        },
        "6627fcbed4b049a7b44a72ac5a38b96b": {
          "model_module": "@jupyter-widgets/base",
          "model_name": "LayoutModel",
          "state": {
            "_view_name": "LayoutView",
            "grid_template_rows": null,
            "right": null,
            "justify_content": null,
            "_view_module": "@jupyter-widgets/base",
            "overflow": null,
            "_model_module_version": "1.2.0",
            "_view_count": null,
            "flex_flow": null,
            "width": null,
            "min_width": null,
            "border": null,
            "align_items": null,
            "bottom": null,
            "_model_module": "@jupyter-widgets/base",
            "top": null,
            "grid_column": null,
            "overflow_y": null,
            "overflow_x": null,
            "grid_auto_flow": null,
            "grid_area": null,
            "grid_template_columns": null,
            "flex": null,
            "_model_name": "LayoutModel",
            "justify_items": null,
            "grid_row": null,
            "max_height": null,
            "align_content": null,
            "visibility": null,
            "align_self": null,
            "height": null,
            "min_height": null,
            "padding": null,
            "grid_auto_rows": null,
            "grid_gap": null,
            "max_width": null,
            "order": null,
            "_view_module_version": "1.2.0",
            "grid_template_areas": null,
            "object_position": null,
            "object_fit": null,
            "grid_auto_columns": null,
            "margin": null,
            "display": null,
            "left": null
          }
        }
      }
    }
  },
  "cells": [
    {
      "cell_type": "markdown",
      "metadata": {
        "id": "view-in-github",
        "colab_type": "text"
      },
      "source": [
        "<a href=\"https://colab.research.google.com/github/Dago86/PhilosophersOnWikidata/blob/main/wikipedia.ipynb\" target=\"_parent\"><img src=\"https://colab.research.google.com/assets/colab-badge.svg\" alt=\"Open In Colab\"/></a>"
      ]
    },
    {
      "cell_type": "code",
      "metadata": {
        "id": "krQtQ6OspEAr"
      },
      "source": [
        "!pip install SPARQLWrapper"
      ],
      "execution_count": null,
      "outputs": []
    },
    {
      "cell_type": "code",
      "metadata": {
        "id": "4O286b0uqO32"
      },
      "source": [
        "!pip install wikipedia"
      ],
      "execution_count": null,
      "outputs": []
    },
    {
      "cell_type": "code",
      "metadata": {
        "id": "u31Ybv0To9_4"
      },
      "source": [
        "# pip install sparqlwrapper\n",
        "# https://rdflib.github.io/sparqlwrapper/\n",
        "\n",
        "import sys\n",
        "from SPARQLWrapper import SPARQLWrapper, JSON\n",
        "\n",
        "endpoint_url = \"https://query.wikidata.org/sparql\"\n",
        "\n",
        "query = \"\"\"select ?philosopher ?philosopherLabel ?date\n",
        "{?philosopher wdt:P106 wd:Q4964182 ;\n",
        " wdt:P569 ?date .\n",
        " FILTER (YEAR(?date) >= 1880)\n",
        " SERVICE wikibase:label { bd:serviceParam wikibase:language \"en\" }\n",
        " }\"\"\"\n",
        "\n",
        "\n",
        "def get_results(endpoint_url, query):\n",
        "    user_agent = \"WDQS-example Python/%s.%s\" % (sys.version_info[0], sys.version_info[1])\n",
        "    # TODO adjust user agent; see https://w.wiki/CX6\n",
        "    sparql = SPARQLWrapper(endpoint_url, agent=user_agent)\n",
        "    sparql.setQuery(query)\n",
        "    sparql.setReturnFormat(JSON)\n",
        "    return sparql.query().convert()\n",
        "\n",
        "\n",
        "results = get_results(endpoint_url, query)\n",
        "\n",
        "for result in results[\"results\"][\"bindings\"]:\n",
        "    print(result['philosopherLabel']['value'])"
      ],
      "execution_count": null,
      "outputs": []
    },
    {
      "cell_type": "code",
      "metadata": {
        "id": "GgLBcms0qL9P"
      },
      "source": [
        "import wikipedia"
      ],
      "execution_count": null,
      "outputs": []
    },
    {
      "cell_type": "code",
      "metadata": {
        "id": "eH0XjcU_qUgI"
      },
      "source": [
        "wikipedia.search(\"Emanuele Severino\")\n",
        "wikipedia.set_lang(\"it\")\n",
        "phil = wikipedia.page(\"Emanuele Severino\")\n",
        "print(phil.content)"
      ],
      "execution_count": null,
      "outputs": []
    },
    {
      "cell_type": "code",
      "metadata": {
        "id": "M0fKDvv-1h6A"
      },
      "source": [
        "'''select ?philosopher ?philosopherLabel ?date ?wikisourceSiteLink \n",
        "{?philosopher wdt:P106 wd:Q4964182 ;\n",
        " wdt:P569 ?date .\n",
        " ?wikisourceSiteLink schema:isPartOf [ wikibase:wikiGroup \"wikisource\" ];\n",
        "                      schema:inLanguage \"en\";\n",
        "                      schema:about ?philosopher.\n",
        " FILTER (YEAR(?date) >= 1700)\n",
        " SERVICE wikibase:label { bd:serviceParam wikibase:language \"en\" }\n",
        " }\n",
        "limit 10\n",
        "\n",
        "\n",
        "SELECT ?philosopher ?philosopherLabel ?date ?immagine ?opere_rilevanti ?opere_rilevantiLabel WHERE {\n",
        "  ?philosopher wdt:P106 wd:Q4964182;\n",
        "    wdt:P569 ?date.\n",
        "  FILTER((YEAR(?date)) >= 1500 )\n",
        "  FILTER((YEAR(?date)) <= 2000 )\n",
        "  SERVICE wikibase:label { bd:serviceParam wikibase:language \"en\". }\n",
        "  OPTIONAL { ?philosopher wdt:P18 ?immagine. }\n",
        "  OPTIONAL { ?philosopher wdt:P800 ?opere_rilevanti. }  \n",
        "}\n",
        "\n",
        "\n",
        "\n",
        "COUNT DAL -500 a 0\n",
        "SELECT (count(DISTINCT ?philosopher) AS ?count)   WHERE {\n",
        "  ?philosopher wdt:P106 wd:Q4964182;\n",
        "    wdt:P569 ?date.\n",
        "  FILTER((YEAR(?date)) >= -500 )\n",
        "  FILTER((YEAR(?date)) <= 0 )\n",
        "  SERVICE wikibase:label { bd:serviceParam wikibase:language \"en\". }\n",
        "} GROUP BY ?count\n",
        "\n",
        "QUERY PER CERCARE QUELLI CON LE OPERE PIU RILEVANTI\n",
        "SELECT (count(?philosopherLabel) AS ?count)  ?philosopherLabel WHERE {\n",
        "  ?philosopher wdt:P106 wd:Q4964182;\n",
        "    wdt:P569 ?date.\n",
        "  FILTER((YEAR(?date)) >= 1500 )\n",
        "  FILTER((YEAR(?date)) <= 2000 )\n",
        "  SERVICE wikibase:label { bd:serviceParam wikibase:language \"en\". }\n",
        "  OPTIONAL { ?philosopher wdt:P18 ?immagine. }\n",
        "  OPTIONAL { ?philosopher wdt:P800 ?opere_rilevanti. }  \n",
        "} GROUP BY ?philosopherLabel\n",
        "ORDER BY DESC(?count)\n",
        "\n",
        "\n",
        "QUERY PER CONTARE LE NAZIONI CON PIU' FILOSOFI IN UN PERIODO STORICO PRECISO\n",
        "SELECT (COUNT(?paese_di_cittadinanzaLabel) AS ?count) ?paese_di_cittadinanzaLabel WHERE {\n",
        "  ?philosopher wdt:P106 wd:Q4964182;\n",
        "    wdt:P569 ?date.\n",
        "  FILTER((YEAR(?date)) >= 1500 )\n",
        "  FILTER((YEAR(?date)) <= 2000 )\n",
        "  SERVICE wikibase:label { bd:serviceParam wikibase:language \"en\". }\n",
        "  OPTIONAL { ?philosopher wdt:P27 ?paese_di_cittadinanza. }\n",
        "} GROUP BY ?paese_di_cittadinanzaLabel\n",
        "ORDER BY DESC(?count)\n",
        "\n",
        "'''"
      ],
      "execution_count": null,
      "outputs": []
    },
    {
      "cell_type": "markdown",
      "metadata": {
        "id": "Zl6RUQmN41ew"
      },
      "source": [
        "1) Numero dei filosofi totali dal 500 a.c ad oggi\n",
        "\n",
        "2) da 500 a.c a 0 a.c / da 0 a 1000 e da 1000 a 2021. Gen x e filosofi millenials (dal 1975 in poi)\n",
        "\n",
        "3) divisione geografica (p.e. concentrazione per country o continenti)\n",
        "\n",
        "4) divisione per correnti (p.e. esistenziali, presocratrici, aristotelici, etc)\n",
        "\n",
        "5)divisione per sesso\n",
        "\n"
      ]
    },
    {
      "cell_type": "markdown",
      "metadata": {
        "id": "MCPu2O3GM_bA"
      },
      "source": [
        "Import necessari per eseguire il codice. Si autogenerano grazie all'opzione specifica di Wikidata Query Service!\n"
      ]
    },
    {
      "cell_type": "code",
      "metadata": {
        "id": "81ccmGepNG-J"
      },
      "source": [
        "# pip install sparqlwrapper\n",
        "# https://rdflib.github.io/sparqlwrapper/\n",
        "\n",
        "import sys\n",
        "from SPARQLWrapper import SPARQLWrapper, JSON"
      ],
      "execution_count": null,
      "outputs": []
    },
    {
      "cell_type": "markdown",
      "metadata": {
        "id": "SYs3nT4yMpzm"
      },
      "source": [
        "Partiamo con il dato più semplice possibile: quanti filosofi troviamo su wikidata?"
      ]
    },
    {
      "cell_type": "code",
      "metadata": {
        "id": "rI-avxqHMl3u",
        "colab": {
          "base_uri": "https://localhost:8080/"
        },
        "outputId": "9d3afe62-0d77-46f0-8b42-c52921f265f1"
      },
      "source": [
        "endpoint_url = \"https://query.wikidata.org/sparql\"\n",
        "\n",
        "query_phil = \"\"\"\n",
        "SELECT (count(DISTINCT ?philosopher) AS ?count)   WHERE {\n",
        "  ?philosopher wdt:P106 wd:Q4964182;\n",
        "    wdt:P569 ?date.\n",
        "\n",
        "  SERVICE wikibase:label { bd:serviceParam wikibase:language \"en\". }\n",
        "} GROUP BY ?count\"\"\"\n",
        "\n",
        "query_mat=\"\"\"\n",
        "SELECT (count(DISTINCT ?mathematician) AS ?count)   WHERE {\n",
        "  ?mathematician  wdt:P106 wd:Q170790;\n",
        "    wdt:P569 ?date.\n",
        "\n",
        "  SERVICE wikibase:label { bd:serviceParam wikibase:language \"en\". }\n",
        "} GROUP BY ?count\"\"\"\n",
        "\n",
        "query_writer=\"\"\"\n",
        "\n",
        "SELECT (count(DISTINCT ?writer  ) AS ?count)   WHERE {\n",
        "  ?writer    wdt:P106 wd:Q36180;\n",
        "    wdt:P569 ?date.\n",
        "\n",
        "  SERVICE wikibase:label { bd:serviceParam wikibase:language \"en\". }\n",
        "} GROUP BY ?count\"\"\"\n",
        "\n",
        "\n",
        "query_phis=\"\"\"\n",
        "SELECT (count(DISTINCT ?physicist   ) AS ?count)   WHERE {\n",
        "  ?physicist     wdt:P106 wd:Q169470;\n",
        "    wdt:P569 ?date.\n",
        "\n",
        "  SERVICE wikibase:label { bd:serviceParam wikibase:language \"en\". }\n",
        "} GROUP BY ?count\"\"\"\n",
        "\n",
        "def get_results(endpoint_url, query):\n",
        "    user_agent = \"WDQS-example Python/%s.%s\" % (sys.version_info[0], sys.version_info[1])\n",
        "    # TODO adjust user agent; see https://w.wiki/CX6\n",
        "    sparql = SPARQLWrapper(endpoint_url, agent=user_agent)\n",
        "    sparql.setQuery(query)\n",
        "    sparql.setReturnFormat(JSON)\n",
        "    return sparql.query().convert()\n",
        "\n",
        "\n",
        "results_phil = get_results(endpoint_url, query_phil)\n",
        "\n",
        "for result in results_phil[\"results\"][\"bindings\"]:\n",
        "    print(result['count']['value'])\n",
        "    num_phil=result['count']['value']\n",
        "\n",
        "results_mat = get_results(endpoint_url, query_mat)\n",
        "\n",
        "for result in results_mat[\"results\"][\"bindings\"]:\n",
        "    print(result['count']['value'])\n",
        "    num_mat=result['count']['value']\n",
        "\n",
        "results_writer = get_results(endpoint_url, query_writer)\n",
        "\n",
        "for result in results_writer[\"results\"][\"bindings\"]:\n",
        "    print(result['count']['value'])\n",
        "    num_writer=result['count']['value']\n",
        "\n",
        "results_phis = get_results(endpoint_url, query_phis)\n",
        "\n",
        "for result in results_phis[\"results\"][\"bindings\"]:\n",
        "    print(result['count']['value'])\n",
        "    num_phis=result['count']['value']\n"
      ],
      "execution_count": null,
      "outputs": [
        {
          "output_type": "stream",
          "text": [
            "20576\n",
            "21922\n",
            "252035\n",
            "19798\n"
          ],
          "name": "stdout"
        }
      ]
    },
    {
      "cell_type": "code",
      "metadata": {
        "colab": {
          "base_uri": "https://localhost:8080/",
          "height": 265
        },
        "id": "0HmTHURAPeGd",
        "outputId": "a9a50610-c322-4b77-cacb-ea27078ccceb"
      },
      "source": [
        "#@title\n",
        "import matplotlib.pyplot as plt\n",
        "\n",
        "fig = plt.figure()\n",
        "langs = ['Philosophers', 'Mathematicians', 'Physicists']\n",
        "students = [int(num_phil),int(num_mat), int(num_phis)]\n",
        "plt.bar(langs,students)\n",
        "plt.show()"
      ],
      "execution_count": null,
      "outputs": [
        {
          "output_type": "display_data",
          "data": {
            "image/png": "[encoded data removed]",
            "text/plain": [
              "<Figure size 432x288 with 1 Axes>"
            ]
          },
          "metadata": {
            "tags": [],
            "needs_background": "light"
          }
        }
      ]
    },
    {
      "cell_type": "markdown",
      "metadata": {
        "id": "Tc_6PoRHUl1e"
      },
      "source": [
        "Nel prossimo blocco dividiamo il numero dei filosofi in epoche storiche, così come le conosciamo a scuola: filosofi dell'età antica, medievale, moderna e contemporanea."
      ]
    },
    {
      "cell_type": "code",
      "metadata": {
        "colab": {
          "base_uri": "https://localhost:8080/"
        },
        "id": "RI03F5Ud7BAm",
        "outputId": "bfa9d8a5-b94f-4061-cd5c-19d0793357ca"
      },
      "source": [
        "#@title\n",
        "endpoint_url = \"https://query.wikidata.org/sparql\"\n",
        "\n",
        "query_phil_ancient = \"\"\"\n",
        "SELECT (count(DISTINCT ?philosopher) AS ?count)   WHERE {\n",
        "  ?philosopher wdt:P106 wd:Q4964182;\n",
        "    wdt:P569 ?date.\n",
        "  FILTER((YEAR(?date)) >= -1500 )\n",
        "  FILTER((YEAR(?date)) <= 476 )\n",
        "  SERVICE wikibase:label { bd:serviceParam wikibase:language \"en\". }\n",
        "} GROUP BY ?count\"\"\"\n",
        "\n",
        "query_phil_medieval = \"\"\"\n",
        "SELECT (count(DISTINCT ?philosopher) AS ?count)   WHERE {\n",
        "  ?philosopher wdt:P106 wd:Q4964182;\n",
        "    wdt:P569 ?date.\n",
        "  FILTER((YEAR(?date)) >= 476 )\n",
        "  FILTER((YEAR(?date)) <= 1492 )\n",
        "  SERVICE wikibase:label { bd:serviceParam wikibase:language \"en\". }\n",
        "} GROUP BY ?count\n",
        "\"\"\"\n",
        "\n",
        "query_phil_modern=\"\"\"\n",
        "SELECT (count(DISTINCT ?philosopher) AS ?count)   WHERE {\n",
        "  ?philosopher wdt:P106 wd:Q4964182;\n",
        "    wdt:P569 ?date.\n",
        "  FILTER((YEAR(?date)) >= 1493 )\n",
        "  FILTER((YEAR(?date)) <= 1800 )\n",
        "  SERVICE wikibase:label { bd:serviceParam wikibase:language \"en\". }\n",
        "} GROUP BY ?count\"\"\"\n",
        "\n",
        "query_phil_contemporary=\"\"\"SELECT (count(DISTINCT ?philosopher) AS ?count)   WHERE {\n",
        "  ?philosopher wdt:P106 wd:Q4964182;\n",
        "    wdt:P569 ?date.\n",
        "  FILTER((YEAR(?date)) >= 1801 )\n",
        "  FILTER((YEAR(?date)) <= 2000 )\n",
        "  SERVICE wikibase:label { bd:serviceParam wikibase:language \"en\". }\n",
        "} GROUP BY ?count\"\"\"\n",
        "\n",
        "\n",
        "def get_results(endpoint_url, query):\n",
        "    user_agent = \"WDQS-example Python/%s.%s\" % (sys.version_info[0], sys.version_info[1])\n",
        "    # TODO adjust user agent; see https://w.wiki/CX6\n",
        "    sparql = SPARQLWrapper(endpoint_url, agent=user_agent)\n",
        "    sparql.setQuery(query)\n",
        "    sparql.setReturnFormat(JSON)\n",
        "    return sparql.query().convert()\n",
        "\n",
        "results_query_phil_ancient = get_results(endpoint_url, query_phil_ancient)\n",
        "results_query_phil_medieval = get_results(endpoint_url, query_phil_medieval)\n",
        "results_query_phil_modern = get_results(endpoint_url, query_phil_modern)\n",
        "results_query_phil_contemporary = get_results(endpoint_url, query_phil_contemporary)\n",
        "\n",
        "for result in results_query_phil_ancient[\"results\"][\"bindings\"]:\n",
        "    print(result['count']['value'])\n",
        "    num_ancient=result['count']['value']\n",
        "\n",
        "for result in results_query_phil_medieval[\"results\"][\"bindings\"]:\n",
        "    print(result['count']['value'])\n",
        "    num_medieval=result['count']['value']\n",
        "\n",
        "for result in results_query_phil_modern[\"results\"][\"bindings\"]:\n",
        "    print(result['count']['value'])\n",
        "    num_modern=result['count']['value']\n",
        "    \n",
        "for result in results_query_phil_contemporary[\"results\"][\"bindings\"]:\n",
        "    print(result['count']['value'])\n",
        "    num_contemporary=result['count']['value']\n",
        "\n"
      ],
      "execution_count": null,
      "outputs": [
        {
          "output_type": "stream",
          "text": [
            "653\n",
            "943\n",
            "2602\n",
            "16308\n"
          ],
          "name": "stdout"
        }
      ]
    },
    {
      "cell_type": "code",
      "metadata": {
        "colab": {
          "base_uri": "https://localhost:8080/",
          "height": 265
        },
        "cellView": "form",
        "id": "208Kd_PJ8nl9",
        "outputId": "f345fcf6-dc9d-4449-9112-525da2a3801e"
      },
      "source": [
        "#@title\n",
        "import matplotlib.pyplot as plt\n",
        "\n",
        "fig = plt.figure()\n",
        "cat = ['Ancient', 'Medieval', 'Modern', 'Contemporary']\n",
        "philosophers_in_era = [int(num_ancient),int(num_medieval), int(num_modern), int(num_contemporary)]\n",
        "plt.bar(cat,philosophers_in_era)\n",
        "plt.show()"
      ],
      "execution_count": null,
      "outputs": [
        {
          "output_type": "display_data",
          "data": {
            "image/png": "[encoded data removed]",
            "text/plain": [
              "<Figure size 432x288 with 1 Axes>"
            ]
          },
          "metadata": {
            "tags": [],
            "needs_background": "light"
          }
        }
      ]
    },
    {
      "cell_type": "markdown",
      "metadata": {
        "id": "ZsylO3DS9G7k"
      },
      "source": [
        "Su wikidata abbiamo **più filosofi negli ultimi 200 anni che per tutto il resto della nostra storia**. Lo avreste mai detto? \n",
        "Puoi provare a modificare gli estremi di ricerca. Io ho utilizzato dei periodi standard. Perché non provi a vedere quanti filosofi sono nati negli ultimi cinquant'anni?"
      ]
    },
    {
      "cell_type": "code",
      "metadata": {
        "colab": {
          "base_uri": "https://localhost:8080/",
          "height": 132,
          "referenced_widgets": [
            "a3340a3577784df184b699e4d6591aed",
            "0e9bbe417c3a429e924e7d6582727b84",
            "16dca20a22b14fc990db7aae1fc292af",
            "6189fff0706a45e0abb94fb761c8bb69",
            "9e3efedc9d8f4472bdbb1f8e1e6f3e01",
            "6627fcbed4b049a7b44a72ac5a38b96b"
          ]
        },
        "id": "LocfF9BG-y7k",
        "outputId": "8369e03f-b32c-4deb-9348-8ad1727d9aa4"
      },
      "source": [
        "import ipywidgets as widgets\n",
        "print(\"Seleziona la data di limitazione inferiore\")\n",
        "slider = widgets.IntSlider(value=1000, max=2000)\n",
        "display(slider)\n",
        "print(\"Seleziona la data di limitazione superiore\")\n",
        "slider_2 = widgets.IntSlider(value=1000, max=2000)\n",
        "display(slider_2)\n",
        "print(\"Devi eseguire questa cella solo una volta, è interattiva, quindi dopo aver selezionato il range desiderato esegui solamente la cella successiva!\")"
      ],
      "execution_count": null,
      "outputs": [
        {
          "output_type": "stream",
          "text": [
            "Seleziona la data di limitazione inferiore\n"
          ],
          "name": "stdout"
        },
        {
          "output_type": "display_data",
          "data": {
            "application/vnd.jupyter.widget-view+json": {
              "model_id": "a3340a3577784df184b699e4d6591aed",
              "version_minor": 0,
              "version_major": 2
            },
            "text/plain": [
              "IntSlider(value=1000, max=2000)"
            ]
          },
          "metadata": {
            "tags": []
          }
        },
        {
          "output_type": "stream",
          "text": [
            "Seleziona la data di limitazione superiore\n"
          ],
          "name": "stdout"
        },
        {
          "output_type": "display_data",
          "data": {
            "application/vnd.jupyter.widget-view+json": {
              "model_id": "6189fff0706a45e0abb94fb761c8bb69",
              "version_minor": 0,
              "version_major": 2
            },
            "text/plain": [
              "IntSlider(value=1000, max=2000)"
            ]
          },
          "metadata": {
            "tags": []
          }
        },
        {
          "output_type": "stream",
          "text": [
            "Devi eseguire questa cella solo una volta, è interattiva, quindi dopo aver selezionato il range desiderato esegui solamente la cella successiva!\n"
          ],
          "name": "stdout"
        }
      ]
    },
    {
      "cell_type": "code",
      "metadata": {
        "colab": {
          "base_uri": "https://localhost:8080/"
        },
        "id": "4qdDB8ko_xmk",
        "outputId": "23d1cb8f-4f31-4e8d-9e0b-a1beb040a64c"
      },
      "source": [
        "endpoint_url = \"https://query.wikidata.org/sparql\"\n",
        "\n",
        "query_phil_you_search = \"\"\"\n",
        "SELECT (count(DISTINCT ?philosopher) AS ?count)   WHERE {\n",
        "  ?philosopher wdt:P106 wd:Q4964182;\n",
        "    wdt:P569 ?date.\n",
        "  FILTER((YEAR(?date)) >= \"\"\"+ str(slider.value)+\"\"\" )\n",
        "  FILTER((YEAR(?date)) <= \"\"\"+str(slider_2.value)+\"\"\" )\n",
        "  SERVICE wikibase:label { bd:serviceParam wikibase:language \"en\". }\n",
        "} GROUP BY ?count\"\"\"\n",
        "\n",
        "def get_results(endpoint_url, query):\n",
        "    user_agent = \"WDQS-example Python/%s.%s\" % (sys.version_info[0], sys.version_info[1])\n",
        "    # TODO adjust user agent; see https://w.wiki/CX6\n",
        "    sparql = SPARQLWrapper(endpoint_url, agent=user_agent)\n",
        "    sparql.setQuery(query)\n",
        "    sparql.setReturnFormat(JSON)\n",
        "    return sparql.query().convert()\n",
        "\n",
        "results_query_phil_you_search = get_results(endpoint_url, query_phil_you_search)\n",
        "\n",
        "for result in results_query_phil_you_search[\"results\"][\"bindings\"]:\n",
        "    print(result['count']['value'])\n",
        "    num_phil_you_search=result['count']['value']"
      ],
      "execution_count": null,
      "outputs": [
        {
          "output_type": "stream",
          "text": [
            "10806\n"
          ],
          "name": "stdout"
        }
      ]
    }
  ]
}